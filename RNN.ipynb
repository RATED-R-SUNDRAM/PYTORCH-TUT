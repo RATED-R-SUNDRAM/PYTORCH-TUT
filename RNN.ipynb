{
  "nbformat": 4,
  "nbformat_minor": 0,
  "metadata": {
    "colab": {
      "provenance": [],
      "gpuType": "T4"
    },
    "kernelspec": {
      "name": "python3",
      "display_name": "Python 3"
    },
    "language_info": {
      "name": "python"
    },
    "accelerator": "GPU"
  },
  "cells": [
    {
      "cell_type": "code",
      "execution_count": 1,
      "metadata": {
        "id": "e_YvDt_NUh7_"
      },
      "outputs": [],
      "source": [
        "import torch\n",
        "import pandas as pd\n",
        "import numpy as np\n",
        "import matplotlib.pyplot as plt\n",
        "from sklearn.model_selection import train_test_split\n",
        "from torch.utils.data import DataLoader, Dataset\n",
        "import torch.nn as nn"
      ]
    },
    {
      "cell_type": "code",
      "source": [
        "device= torch.device('cuda' if torch.cuda.is_available() else 'cpu')\n",
        "device"
      ],
      "metadata": {
        "colab": {
          "base_uri": "https://localhost:8080/"
        },
        "id": "m9-sfENJUnqQ",
        "outputId": "bf3f16c6-e7a3-4b57-e92e-e1766c4b8358"
      },
      "execution_count": 3,
      "outputs": [
        {
          "output_type": "execute_result",
          "data": {
            "text/plain": [
              "device(type='cuda')"
            ]
          },
          "metadata": {},
          "execution_count": 3
        }
      ]
    },
    {
      "cell_type": "code",
      "source": [
        "df= pd.read_csv(r\"/content/sample_data/100_Unique_QA_Dataset.csv\")"
      ],
      "metadata": {
        "id": "9fk-LIZxU4jk"
      },
      "execution_count": 45,
      "outputs": []
    },
    {
      "cell_type": "code",
      "source": [
        "df.iloc[7]"
      ],
      "metadata": {
        "colab": {
          "base_uri": "https://localhost:8080/",
          "height": 147
        },
        "id": "-viBRabEX-Q0",
        "outputId": "24348701-9ff0-43d0-bc50-52a7e075b052"
      },
      "execution_count": 46,
      "outputs": [
        {
          "output_type": "execute_result",
          "data": {
            "text/plain": [
              "question    What is the chemical symbol for gold?\n",
              "answer                                         Au\n",
              "Name: 7, dtype: object"
            ],
            "text/html": [
              "<div>\n",
              "<style scoped>\n",
              "    .dataframe tbody tr th:only-of-type {\n",
              "        vertical-align: middle;\n",
              "    }\n",
              "\n",
              "    .dataframe tbody tr th {\n",
              "        vertical-align: top;\n",
              "    }\n",
              "\n",
              "    .dataframe thead th {\n",
              "        text-align: right;\n",
              "    }\n",
              "</style>\n",
              "<table border=\"1\" class=\"dataframe\">\n",
              "  <thead>\n",
              "    <tr style=\"text-align: right;\">\n",
              "      <th></th>\n",
              "      <th>7</th>\n",
              "    </tr>\n",
              "  </thead>\n",
              "  <tbody>\n",
              "    <tr>\n",
              "      <th>question</th>\n",
              "      <td>What is the chemical symbol for gold?</td>\n",
              "    </tr>\n",
              "    <tr>\n",
              "      <th>answer</th>\n",
              "      <td>Au</td>\n",
              "    </tr>\n",
              "  </tbody>\n",
              "</table>\n",
              "</div><br><label><b>dtype:</b> object</label>"
            ]
          },
          "metadata": {},
          "execution_count": 46
        }
      ]
    },
    {
      "cell_type": "code",
      "source": [
        "\n",
        "def tokenize(a):\n",
        "  txt=a.lower()\n",
        "  txt=txt.replace(\"?\",\"\")\n",
        "  txt=txt.replace(\"'\",\"\")\n",
        "  return txt.split()"
      ],
      "metadata": {
        "id": "BuqsRtoiX-36"
      },
      "execution_count": 58,
      "outputs": []
    },
    {
      "cell_type": "code",
      "source": [
        "df['question_token'] = df['question'].apply(tokenize)\n",
        "df['answer_token']=df['answer'].apply(tokenize)"
      ],
      "metadata": {
        "id": "J9GChEpPYWnZ"
      },
      "execution_count": 48,
      "outputs": []
    },
    {
      "cell_type": "code",
      "source": [
        "df['merged']=df['question_token']+df['answer_token']\n",
        "df"
      ],
      "metadata": {
        "colab": {
          "base_uri": "https://localhost:8080/",
          "height": 423
        },
        "id": "nS-mvWoGbepl",
        "outputId": "29767007-b6c5-4893-e24d-76e0ce7606fc"
      },
      "execution_count": 57,
      "outputs": [
        {
          "output_type": "execute_result",
          "data": {
            "text/plain": [
              "                                             question        answer  \\\n",
              "0                      What is the capital of France?         Paris   \n",
              "1                     What is the capital of Germany?        Berlin   \n",
              "2                  Who wrote 'To Kill a Mockingbird'?    Harper-Lee   \n",
              "3     What is the largest planet in our solar system?       Jupiter   \n",
              "4      What is the boiling point of water in Celsius?           100   \n",
              "..                                                ...           ...   \n",
              "85                  Who directed the movie 'Titanic'?  JamesCameron   \n",
              "86  Which superhero is also known as the Dark Knight?        Batman   \n",
              "87                     What is the capital of Brazil?      Brasilia   \n",
              "88        Which fruit is known as the king of fruits?         Mango   \n",
              "89       Which country is known for the Eiffel Tower?        France   \n",
              "\n",
              "                                       question_token    answer_token  \\\n",
              "0                [what, is, the, capital, of, france]         [paris]   \n",
              "1               [what, is, the, capital, of, germany]        [berlin]   \n",
              "2              [who, wrote, to, kill, a, mockingbird]    [harper-lee]   \n",
              "3   [what, is, the, largest, planet, in, our, sola...       [jupiter]   \n",
              "4   [what, is, the, boiling, point, of, water, in,...           [100]   \n",
              "..                                                ...             ...   \n",
              "85               [who, directed, the, movie, titanic]  [jamescameron]   \n",
              "86  [which, superhero, is, also, known, as, the, d...        [batman]   \n",
              "87               [what, is, the, capital, of, brazil]      [brasilia]   \n",
              "88  [which, fruit, is, known, as, the, king, of, f...         [mango]   \n",
              "89  [which, country, is, known, for, the, eiffel, ...        [france]   \n",
              "\n",
              "                                               merged  \n",
              "0         [what, is, the, capital, of, france, paris]  \n",
              "1       [what, is, the, capital, of, germany, berlin]  \n",
              "2   [who, wrote, to, kill, a, mockingbird, harper-...  \n",
              "3   [what, is, the, largest, planet, in, our, sola...  \n",
              "4   [what, is, the, boiling, point, of, water, in,...  \n",
              "..                                                ...  \n",
              "85  [who, directed, the, movie, titanic, jamescame...  \n",
              "86  [which, superhero, is, also, known, as, the, d...  \n",
              "87     [what, is, the, capital, of, brazil, brasilia]  \n",
              "88  [which, fruit, is, known, as, the, king, of, f...  \n",
              "89  [which, country, is, known, for, the, eiffel, ...  \n",
              "\n",
              "[90 rows x 5 columns]"
            ],
            "text/html": [
              "\n",
              "  <div id=\"df-a5d9a136-e6fe-4c9b-89c1-ca941f6aff2b\" class=\"colab-df-container\">\n",
              "    <div>\n",
              "<style scoped>\n",
              "    .dataframe tbody tr th:only-of-type {\n",
              "        vertical-align: middle;\n",
              "    }\n",
              "\n",
              "    .dataframe tbody tr th {\n",
              "        vertical-align: top;\n",
              "    }\n",
              "\n",
              "    .dataframe thead th {\n",
              "        text-align: right;\n",
              "    }\n",
              "</style>\n",
              "<table border=\"1\" class=\"dataframe\">\n",
              "  <thead>\n",
              "    <tr style=\"text-align: right;\">\n",
              "      <th></th>\n",
              "      <th>question</th>\n",
              "      <th>answer</th>\n",
              "      <th>question_token</th>\n",
              "      <th>answer_token</th>\n",
              "      <th>merged</th>\n",
              "    </tr>\n",
              "  </thead>\n",
              "  <tbody>\n",
              "    <tr>\n",
              "      <th>0</th>\n",
              "      <td>What is the capital of France?</td>\n",
              "      <td>Paris</td>\n",
              "      <td>[what, is, the, capital, of, france]</td>\n",
              "      <td>[paris]</td>\n",
              "      <td>[what, is, the, capital, of, france, paris]</td>\n",
              "    </tr>\n",
              "    <tr>\n",
              "      <th>1</th>\n",
              "      <td>What is the capital of Germany?</td>\n",
              "      <td>Berlin</td>\n",
              "      <td>[what, is, the, capital, of, germany]</td>\n",
              "      <td>[berlin]</td>\n",
              "      <td>[what, is, the, capital, of, germany, berlin]</td>\n",
              "    </tr>\n",
              "    <tr>\n",
              "      <th>2</th>\n",
              "      <td>Who wrote 'To Kill a Mockingbird'?</td>\n",
              "      <td>Harper-Lee</td>\n",
              "      <td>[who, wrote, to, kill, a, mockingbird]</td>\n",
              "      <td>[harper-lee]</td>\n",
              "      <td>[who, wrote, to, kill, a, mockingbird, harper-...</td>\n",
              "    </tr>\n",
              "    <tr>\n",
              "      <th>3</th>\n",
              "      <td>What is the largest planet in our solar system?</td>\n",
              "      <td>Jupiter</td>\n",
              "      <td>[what, is, the, largest, planet, in, our, sola...</td>\n",
              "      <td>[jupiter]</td>\n",
              "      <td>[what, is, the, largest, planet, in, our, sola...</td>\n",
              "    </tr>\n",
              "    <tr>\n",
              "      <th>4</th>\n",
              "      <td>What is the boiling point of water in Celsius?</td>\n",
              "      <td>100</td>\n",
              "      <td>[what, is, the, boiling, point, of, water, in,...</td>\n",
              "      <td>[100]</td>\n",
              "      <td>[what, is, the, boiling, point, of, water, in,...</td>\n",
              "    </tr>\n",
              "    <tr>\n",
              "      <th>...</th>\n",
              "      <td>...</td>\n",
              "      <td>...</td>\n",
              "      <td>...</td>\n",
              "      <td>...</td>\n",
              "      <td>...</td>\n",
              "    </tr>\n",
              "    <tr>\n",
              "      <th>85</th>\n",
              "      <td>Who directed the movie 'Titanic'?</td>\n",
              "      <td>JamesCameron</td>\n",
              "      <td>[who, directed, the, movie, titanic]</td>\n",
              "      <td>[jamescameron]</td>\n",
              "      <td>[who, directed, the, movie, titanic, jamescame...</td>\n",
              "    </tr>\n",
              "    <tr>\n",
              "      <th>86</th>\n",
              "      <td>Which superhero is also known as the Dark Knight?</td>\n",
              "      <td>Batman</td>\n",
              "      <td>[which, superhero, is, also, known, as, the, d...</td>\n",
              "      <td>[batman]</td>\n",
              "      <td>[which, superhero, is, also, known, as, the, d...</td>\n",
              "    </tr>\n",
              "    <tr>\n",
              "      <th>87</th>\n",
              "      <td>What is the capital of Brazil?</td>\n",
              "      <td>Brasilia</td>\n",
              "      <td>[what, is, the, capital, of, brazil]</td>\n",
              "      <td>[brasilia]</td>\n",
              "      <td>[what, is, the, capital, of, brazil, brasilia]</td>\n",
              "    </tr>\n",
              "    <tr>\n",
              "      <th>88</th>\n",
              "      <td>Which fruit is known as the king of fruits?</td>\n",
              "      <td>Mango</td>\n",
              "      <td>[which, fruit, is, known, as, the, king, of, f...</td>\n",
              "      <td>[mango]</td>\n",
              "      <td>[which, fruit, is, known, as, the, king, of, f...</td>\n",
              "    </tr>\n",
              "    <tr>\n",
              "      <th>89</th>\n",
              "      <td>Which country is known for the Eiffel Tower?</td>\n",
              "      <td>France</td>\n",
              "      <td>[which, country, is, known, for, the, eiffel, ...</td>\n",
              "      <td>[france]</td>\n",
              "      <td>[which, country, is, known, for, the, eiffel, ...</td>\n",
              "    </tr>\n",
              "  </tbody>\n",
              "</table>\n",
              "<p>90 rows × 5 columns</p>\n",
              "</div>\n",
              "    <div class=\"colab-df-buttons\">\n",
              "\n",
              "  <div class=\"colab-df-container\">\n",
              "    <button class=\"colab-df-convert\" onclick=\"convertToInteractive('df-a5d9a136-e6fe-4c9b-89c1-ca941f6aff2b')\"\n",
              "            title=\"Convert this dataframe to an interactive table.\"\n",
              "            style=\"display:none;\">\n",
              "\n",
              "  <svg xmlns=\"http://www.w3.org/2000/svg\" height=\"24px\" viewBox=\"0 -960 960 960\">\n",
              "    <path d=\"M120-120v-720h720v720H120Zm60-500h600v-160H180v160Zm220 220h160v-160H400v160Zm0 220h160v-160H400v160ZM180-400h160v-160H180v160Zm440 0h160v-160H620v160ZM180-180h160v-160H180v160Zm440 0h160v-160H620v160Z\"/>\n",
              "  </svg>\n",
              "    </button>\n",
              "\n",
              "  <style>\n",
              "    .colab-df-container {\n",
              "      display:flex;\n",
              "      gap: 12px;\n",
              "    }\n",
              "\n",
              "    .colab-df-convert {\n",
              "      background-color: #E8F0FE;\n",
              "      border: none;\n",
              "      border-radius: 50%;\n",
              "      cursor: pointer;\n",
              "      display: none;\n",
              "      fill: #1967D2;\n",
              "      height: 32px;\n",
              "      padding: 0 0 0 0;\n",
              "      width: 32px;\n",
              "    }\n",
              "\n",
              "    .colab-df-convert:hover {\n",
              "      background-color: #E2EBFA;\n",
              "      box-shadow: 0px 1px 2px rgba(60, 64, 67, 0.3), 0px 1px 3px 1px rgba(60, 64, 67, 0.15);\n",
              "      fill: #174EA6;\n",
              "    }\n",
              "\n",
              "    .colab-df-buttons div {\n",
              "      margin-bottom: 4px;\n",
              "    }\n",
              "\n",
              "    [theme=dark] .colab-df-convert {\n",
              "      background-color: #3B4455;\n",
              "      fill: #D2E3FC;\n",
              "    }\n",
              "\n",
              "    [theme=dark] .colab-df-convert:hover {\n",
              "      background-color: #434B5C;\n",
              "      box-shadow: 0px 1px 3px 1px rgba(0, 0, 0, 0.15);\n",
              "      filter: drop-shadow(0px 1px 2px rgba(0, 0, 0, 0.3));\n",
              "      fill: #FFFFFF;\n",
              "    }\n",
              "  </style>\n",
              "\n",
              "    <script>\n",
              "      const buttonEl =\n",
              "        document.querySelector('#df-a5d9a136-e6fe-4c9b-89c1-ca941f6aff2b button.colab-df-convert');\n",
              "      buttonEl.style.display =\n",
              "        google.colab.kernel.accessAllowed ? 'block' : 'none';\n",
              "\n",
              "      async function convertToInteractive(key) {\n",
              "        const element = document.querySelector('#df-a5d9a136-e6fe-4c9b-89c1-ca941f6aff2b');\n",
              "        const dataTable =\n",
              "          await google.colab.kernel.invokeFunction('convertToInteractive',\n",
              "                                                    [key], {});\n",
              "        if (!dataTable) return;\n",
              "\n",
              "        const docLinkHtml = 'Like what you see? Visit the ' +\n",
              "          '<a target=\"_blank\" href=https://colab.research.google.com/notebooks/data_table.ipynb>data table notebook</a>'\n",
              "          + ' to learn more about interactive tables.';\n",
              "        element.innerHTML = '';\n",
              "        dataTable['output_type'] = 'display_data';\n",
              "        await google.colab.output.renderOutput(dataTable, element);\n",
              "        const docLink = document.createElement('div');\n",
              "        docLink.innerHTML = docLinkHtml;\n",
              "        element.appendChild(docLink);\n",
              "      }\n",
              "    </script>\n",
              "  </div>\n",
              "\n",
              "\n",
              "<div id=\"df-a0a0b29a-e0ea-4c36-9b8a-d8949540b3d2\">\n",
              "  <button class=\"colab-df-quickchart\" onclick=\"quickchart('df-a0a0b29a-e0ea-4c36-9b8a-d8949540b3d2')\"\n",
              "            title=\"Suggest charts\"\n",
              "            style=\"display:none;\">\n",
              "\n",
              "<svg xmlns=\"http://www.w3.org/2000/svg\" height=\"24px\"viewBox=\"0 0 24 24\"\n",
              "     width=\"24px\">\n",
              "    <g>\n",
              "        <path d=\"M19 3H5c-1.1 0-2 .9-2 2v14c0 1.1.9 2 2 2h14c1.1 0 2-.9 2-2V5c0-1.1-.9-2-2-2zM9 17H7v-7h2v7zm4 0h-2V7h2v10zm4 0h-2v-4h2v4z\"/>\n",
              "    </g>\n",
              "</svg>\n",
              "  </button>\n",
              "\n",
              "<style>\n",
              "  .colab-df-quickchart {\n",
              "      --bg-color: #E8F0FE;\n",
              "      --fill-color: #1967D2;\n",
              "      --hover-bg-color: #E2EBFA;\n",
              "      --hover-fill-color: #174EA6;\n",
              "      --disabled-fill-color: #AAA;\n",
              "      --disabled-bg-color: #DDD;\n",
              "  }\n",
              "\n",
              "  [theme=dark] .colab-df-quickchart {\n",
              "      --bg-color: #3B4455;\n",
              "      --fill-color: #D2E3FC;\n",
              "      --hover-bg-color: #434B5C;\n",
              "      --hover-fill-color: #FFFFFF;\n",
              "      --disabled-bg-color: #3B4455;\n",
              "      --disabled-fill-color: #666;\n",
              "  }\n",
              "\n",
              "  .colab-df-quickchart {\n",
              "    background-color: var(--bg-color);\n",
              "    border: none;\n",
              "    border-radius: 50%;\n",
              "    cursor: pointer;\n",
              "    display: none;\n",
              "    fill: var(--fill-color);\n",
              "    height: 32px;\n",
              "    padding: 0;\n",
              "    width: 32px;\n",
              "  }\n",
              "\n",
              "  .colab-df-quickchart:hover {\n",
              "    background-color: var(--hover-bg-color);\n",
              "    box-shadow: 0 1px 2px rgba(60, 64, 67, 0.3), 0 1px 3px 1px rgba(60, 64, 67, 0.15);\n",
              "    fill: var(--button-hover-fill-color);\n",
              "  }\n",
              "\n",
              "  .colab-df-quickchart-complete:disabled,\n",
              "  .colab-df-quickchart-complete:disabled:hover {\n",
              "    background-color: var(--disabled-bg-color);\n",
              "    fill: var(--disabled-fill-color);\n",
              "    box-shadow: none;\n",
              "  }\n",
              "\n",
              "  .colab-df-spinner {\n",
              "    border: 2px solid var(--fill-color);\n",
              "    border-color: transparent;\n",
              "    border-bottom-color: var(--fill-color);\n",
              "    animation:\n",
              "      spin 1s steps(1) infinite;\n",
              "  }\n",
              "\n",
              "  @keyframes spin {\n",
              "    0% {\n",
              "      border-color: transparent;\n",
              "      border-bottom-color: var(--fill-color);\n",
              "      border-left-color: var(--fill-color);\n",
              "    }\n",
              "    20% {\n",
              "      border-color: transparent;\n",
              "      border-left-color: var(--fill-color);\n",
              "      border-top-color: var(--fill-color);\n",
              "    }\n",
              "    30% {\n",
              "      border-color: transparent;\n",
              "      border-left-color: var(--fill-color);\n",
              "      border-top-color: var(--fill-color);\n",
              "      border-right-color: var(--fill-color);\n",
              "    }\n",
              "    40% {\n",
              "      border-color: transparent;\n",
              "      border-right-color: var(--fill-color);\n",
              "      border-top-color: var(--fill-color);\n",
              "    }\n",
              "    60% {\n",
              "      border-color: transparent;\n",
              "      border-right-color: var(--fill-color);\n",
              "    }\n",
              "    80% {\n",
              "      border-color: transparent;\n",
              "      border-right-color: var(--fill-color);\n",
              "      border-bottom-color: var(--fill-color);\n",
              "    }\n",
              "    90% {\n",
              "      border-color: transparent;\n",
              "      border-bottom-color: var(--fill-color);\n",
              "    }\n",
              "  }\n",
              "</style>\n",
              "\n",
              "  <script>\n",
              "    async function quickchart(key) {\n",
              "      const quickchartButtonEl =\n",
              "        document.querySelector('#' + key + ' button');\n",
              "      quickchartButtonEl.disabled = true;  // To prevent multiple clicks.\n",
              "      quickchartButtonEl.classList.add('colab-df-spinner');\n",
              "      try {\n",
              "        const charts = await google.colab.kernel.invokeFunction(\n",
              "            'suggestCharts', [key], {});\n",
              "      } catch (error) {\n",
              "        console.error('Error during call to suggestCharts:', error);\n",
              "      }\n",
              "      quickchartButtonEl.classList.remove('colab-df-spinner');\n",
              "      quickchartButtonEl.classList.add('colab-df-quickchart-complete');\n",
              "    }\n",
              "    (() => {\n",
              "      let quickchartButtonEl =\n",
              "        document.querySelector('#df-a0a0b29a-e0ea-4c36-9b8a-d8949540b3d2 button');\n",
              "      quickchartButtonEl.style.display =\n",
              "        google.colab.kernel.accessAllowed ? 'block' : 'none';\n",
              "    })();\n",
              "  </script>\n",
              "</div>\n",
              "\n",
              "  <div id=\"id_ebb43e89-1fc0-4a65-85fe-1d81eefa8b57\">\n",
              "    <style>\n",
              "      .colab-df-generate {\n",
              "        background-color: #E8F0FE;\n",
              "        border: none;\n",
              "        border-radius: 50%;\n",
              "        cursor: pointer;\n",
              "        display: none;\n",
              "        fill: #1967D2;\n",
              "        height: 32px;\n",
              "        padding: 0 0 0 0;\n",
              "        width: 32px;\n",
              "      }\n",
              "\n",
              "      .colab-df-generate:hover {\n",
              "        background-color: #E2EBFA;\n",
              "        box-shadow: 0px 1px 2px rgba(60, 64, 67, 0.3), 0px 1px 3px 1px rgba(60, 64, 67, 0.15);\n",
              "        fill: #174EA6;\n",
              "      }\n",
              "\n",
              "      [theme=dark] .colab-df-generate {\n",
              "        background-color: #3B4455;\n",
              "        fill: #D2E3FC;\n",
              "      }\n",
              "\n",
              "      [theme=dark] .colab-df-generate:hover {\n",
              "        background-color: #434B5C;\n",
              "        box-shadow: 0px 1px 3px 1px rgba(0, 0, 0, 0.15);\n",
              "        filter: drop-shadow(0px 1px 2px rgba(0, 0, 0, 0.3));\n",
              "        fill: #FFFFFF;\n",
              "      }\n",
              "    </style>\n",
              "    <button class=\"colab-df-generate\" onclick=\"generateWithVariable('df')\"\n",
              "            title=\"Generate code using this dataframe.\"\n",
              "            style=\"display:none;\">\n",
              "\n",
              "  <svg xmlns=\"http://www.w3.org/2000/svg\" height=\"24px\"viewBox=\"0 0 24 24\"\n",
              "       width=\"24px\">\n",
              "    <path d=\"M7,19H8.4L18.45,9,17,7.55,7,17.6ZM5,21V16.75L18.45,3.32a2,2,0,0,1,2.83,0l1.4,1.43a1.91,1.91,0,0,1,.58,1.4,1.91,1.91,0,0,1-.58,1.4L9.25,21ZM18.45,9,17,7.55Zm-12,3A5.31,5.31,0,0,0,4.9,8.1,5.31,5.31,0,0,0,1,6.5,5.31,5.31,0,0,0,4.9,4.9,5.31,5.31,0,0,0,6.5,1,5.31,5.31,0,0,0,8.1,4.9,5.31,5.31,0,0,0,12,6.5,5.46,5.46,0,0,0,6.5,12Z\"/>\n",
              "  </svg>\n",
              "    </button>\n",
              "    <script>\n",
              "      (() => {\n",
              "      const buttonEl =\n",
              "        document.querySelector('#id_ebb43e89-1fc0-4a65-85fe-1d81eefa8b57 button.colab-df-generate');\n",
              "      buttonEl.style.display =\n",
              "        google.colab.kernel.accessAllowed ? 'block' : 'none';\n",
              "\n",
              "      buttonEl.onclick = () => {\n",
              "        google.colab.notebook.generateWithVariable('df');\n",
              "      }\n",
              "      })();\n",
              "    </script>\n",
              "  </div>\n",
              "\n",
              "    </div>\n",
              "  </div>\n"
            ],
            "application/vnd.google.colaboratory.intrinsic+json": {
              "type": "dataframe",
              "variable_name": "df",
              "summary": "{\n  \"name\": \"df\",\n  \"rows\": 90,\n  \"fields\": [\n    {\n      \"column\": \"question\",\n      \"properties\": {\n        \"dtype\": \"string\",\n        \"num_unique_values\": 90,\n        \"samples\": [\n          \"What is the currency of China?\",\n          \"What is the capital of Australia?\",\n          \"Who discovered electricity?\"\n        ],\n        \"semantic_type\": \"\",\n        \"description\": \"\"\n      }\n    },\n    {\n      \"column\": \"answer\",\n      \"properties\": {\n        \"dtype\": \"string\",\n        \"num_unique_values\": 85,\n        \"samples\": [\n          \"ChristopherColumbus\",\n          \"Paris\",\n          \"Christmas\"\n        ],\n        \"semantic_type\": \"\",\n        \"description\": \"\"\n      }\n    },\n    {\n      \"column\": \"question_token\",\n      \"properties\": {\n        \"dtype\": \"object\",\n        \"semantic_type\": \"\",\n        \"description\": \"\"\n      }\n    },\n    {\n      \"column\": \"answer_token\",\n      \"properties\": {\n        \"dtype\": \"object\",\n        \"semantic_type\": \"\",\n        \"description\": \"\"\n      }\n    },\n    {\n      \"column\": \"merged\",\n      \"properties\": {\n        \"dtype\": \"object\",\n        \"semantic_type\": \"\",\n        \"description\": \"\"\n      }\n    }\n  ]\n}"
            }
          },
          "metadata": {},
          "execution_count": 57
        }
      ]
    },
    {
      "cell_type": "code",
      "source": [
        "vocab={\"<un>\":0}\n",
        "for i in df['merged']:\n",
        "\n",
        "  for j in i:\n",
        "    if j not in vocab:\n",
        "      vocab[j]=len(vocab)\n",
        "\n"
      ],
      "metadata": {
        "id": "pgUTjaoHYeYF"
      },
      "execution_count": 63,
      "outputs": []
    },
    {
      "cell_type": "code",
      "source": [
        "def embedding(a,vocab):\n",
        "  arr=tokenize(a)\n",
        "  emb=[]\n",
        "  for i in arr:\n",
        "    if i not in vocab:\n",
        "      emb.append(vocab[\"<un>\"])\n",
        "    else:\n",
        "      emb.append(vocab[i])\n",
        "  return emb"
      ],
      "metadata": {
        "id": "-rlfkjWuZHdX"
      },
      "execution_count": 64,
      "outputs": []
    },
    {
      "cell_type": "code",
      "source": [
        "embedding(df.iloc[7]['question'],vocab)"
      ],
      "metadata": {
        "colab": {
          "base_uri": "https://localhost:8080/"
        },
        "id": "YDU6VrJFeX61",
        "outputId": "55ad0702-20b3-41d4-b613-30f79a3b439f"
      },
      "execution_count": 65,
      "outputs": [
        {
          "output_type": "execute_result",
          "data": {
            "text/plain": [
              "[1, 2, 3, 37, 38, 39, 40]"
            ]
          },
          "metadata": {},
          "execution_count": 65
        }
      ]
    },
    {
      "cell_type": "code",
      "source": [
        "class custom_dataset(Dataset):\n",
        "  def __init__(self,df,vocab):\n",
        "    self.df=df\n",
        "    self.vocab=vocab\n",
        "  def __len__(self):\n",
        "    return len(self.df)\n",
        "  def __getitem__(self,idx):\n",
        "    question=torch.tensor(embedding(self.df.iloc[idx]['question'],self.vocab))\n",
        "    answer=torch.tensor(embedding(self.df.iloc[idx]['answer'],self.vocab))\n",
        "    return question,answer"
      ],
      "metadata": {
        "id": "PPvt-flMZRxY"
      },
      "execution_count": 95,
      "outputs": []
    },
    {
      "cell_type": "code",
      "source": [
        "data = custom_dataset(df,vocab)"
      ],
      "metadata": {
        "id": "jPPAs6aMZgnI"
      },
      "execution_count": 96,
      "outputs": []
    },
    {
      "cell_type": "code",
      "source": [
        "dataloader = DataLoader(data, batch_size=1, shuffle=True)"
      ],
      "metadata": {
        "id": "kuYYK8c6Zlqr"
      },
      "execution_count": 99,
      "outputs": []
    },
    {
      "cell_type": "code",
      "source": [
        "for x,y in dataloader:\n",
        "  print(x,y)\n",
        "  break"
      ],
      "metadata": {
        "colab": {
          "base_uri": "https://localhost:8080/"
        },
        "id": "o2nGXf6Ni9PS",
        "outputId": "bc6574af-f1f6-4752-cfd3-f304aab6e9fe"
      },
      "execution_count": 109,
      "outputs": [
        {
          "output_type": "stream",
          "name": "stdout",
          "text": [
            "tensor([[ 42, 255,   2, 256,  83, 257, 258]]) tensor([[259]])\n"
          ]
        }
      ]
    },
    {
      "cell_type": "code",
      "source": [
        "vocab_len = len(vocab)\n",
        "vocab_len"
      ],
      "metadata": {
        "colab": {
          "base_uri": "https://localhost:8080/"
        },
        "id": "7lSpZkP3gx3r",
        "outputId": "e145b9f5-6b13-4675-f0c6-9fb42b3409f5"
      },
      "execution_count": 110,
      "outputs": [
        {
          "output_type": "execute_result",
          "data": {
            "text/plain": [
              "324"
            ]
          },
          "metadata": {},
          "execution_count": 110
        }
      ]
    },
    {
      "cell_type": "markdown",
      "source": [
        "### IN THE MODEL CLASS WE CAN't USE SEQUENTIAL BECAUSE IT EXPECTS ONE OUTPUT OF EACH OF PREVIOUS LAYERS BUT RNN GIVES 2 OUTPUTS HIDDEN STATE AND OUTPUT OF HIDDEN LAYER BOTH\n",
        "\n",
        "### ALSO WE CONVERTING INPUT TO BE 50 DIMENSIONAL NEURON SO EACH WORD WILL HAVE 50 DIMENSIONAL NEURON"
      ],
      "metadata": {
        "id": "eb7tWcKxfNJw"
      }
    },
    {
      "cell_type": "code",
      "source": [
        "class Model(nn.Module):\n",
        "  def __init__(self,vocab_len):\n",
        "    super(Model,self).__init__()\n",
        "    self.embedding=nn.Embedding(vocab_len,50)\n",
        "    self.rnn=nn.RNN(50,128,batch_first=True)\n",
        "    self.fc=nn.Linear(128,vocab_len)\n",
        "  def forward(self,x):\n",
        "    x=self.embedding(x)\n",
        "    x,_=self.rnn(x)\n",
        "    x=self.fc(_.squeeze(0))\n",
        "    return x"
      ],
      "metadata": {
        "id": "QmoFQP7rZraY"
      },
      "execution_count": 122,
      "outputs": []
    },
    {
      "cell_type": "code",
      "source": [],
      "metadata": {
        "id": "ehDCPqJbkQ3p"
      },
      "execution_count": 122,
      "outputs": []
    },
    {
      "cell_type": "code",
      "source": [
        "model = Model(vocab_len)\n"
      ],
      "metadata": {
        "id": "dGQBN6XafEf8"
      },
      "execution_count": 123,
      "outputs": []
    },
    {
      "cell_type": "code",
      "source": [
        "\n",
        "loss = nn.CrossEntropyLoss()\n",
        "optim = torch.optim.Adam(model.parameters(), lr=0.001)"
      ],
      "metadata": {
        "id": "_xeTA6qUhXtI"
      },
      "execution_count": 124,
      "outputs": []
    },
    {
      "cell_type": "code",
      "source": [
        "for i in range(100):\n",
        "  net_loss=0\n",
        "  for x,y in dataloader:\n",
        "    output = model(x)\n",
        "\n",
        "    optim.zero_grad()\n",
        "\n",
        "    l= loss(output,y[0])\n",
        "\n",
        "    l.backward()\n",
        "\n",
        "    optim.step()\n",
        "    net_loss+=l.item()\n",
        "  print(f\"loss after epoch:{i} is {net_loss/len(x)}\")\n"
      ],
      "metadata": {
        "colab": {
          "base_uri": "https://localhost:8080/"
        },
        "id": "sUF8rSrmhfc7",
        "outputId": "58ec2e5c-f9cc-4968-bdfd-aa32bd7c7646"
      },
      "execution_count": 125,
      "outputs": [
        {
          "output_type": "stream",
          "name": "stdout",
          "text": [
            "loss after epoch:0 is 521.2499489784241\n",
            "loss after epoch:1 is 400.56620836257935\n",
            "loss after epoch:2 is 287.39556217193604\n",
            "loss after epoch:3 is 199.5228806734085\n",
            "loss after epoch:4 is 127.20970970392227\n",
            "loss after epoch:5 is 77.0858274102211\n",
            "loss after epoch:6 is 49.52288277447224\n",
            "loss after epoch:7 is 31.34895572811365\n",
            "loss after epoch:8 is 21.712792798876762\n",
            "loss after epoch:9 is 15.331237435340881\n",
            "loss after epoch:10 is 11.307553939521313\n",
            "loss after epoch:11 is 8.871322572231293\n",
            "loss after epoch:12 is 7.092687334865332\n",
            "loss after epoch:13 is 5.799841038882732\n",
            "loss after epoch:14 is 4.8737614545971155\n",
            "loss after epoch:15 is 4.1662582121789455\n",
            "loss after epoch:16 is 3.613013068214059\n",
            "loss after epoch:17 is 3.131361050531268\n",
            "loss after epoch:18 is 2.7560192178934813\n",
            "loss after epoch:19 is 2.4514422304928303\n",
            "loss after epoch:20 is 2.1889780880883336\n",
            "loss after epoch:21 is 1.9664762672036886\n",
            "loss after epoch:22 is 1.7726791761815548\n",
            "loss after epoch:23 is 1.6049312315881252\n",
            "loss after epoch:24 is 1.4633600125089288\n",
            "loss after epoch:25 is 1.334789161104709\n",
            "loss after epoch:26 is 1.2229308374226093\n",
            "loss after epoch:27 is 1.1286676963791251\n",
            "loss after epoch:28 is 1.0324998758733273\n",
            "loss after epoch:29 is 0.957026588730514\n",
            "loss after epoch:30 is 0.8821271699853241\n",
            "loss after epoch:31 is 0.8169679716229439\n",
            "loss after epoch:32 is 0.7599094053730369\n",
            "loss after epoch:33 is 0.7049768543802202\n",
            "loss after epoch:34 is 0.6589810331352055\n",
            "loss after epoch:35 is 0.6134862951003015\n",
            "loss after epoch:36 is 0.572454342385754\n",
            "loss after epoch:37 is 0.5353176714852452\n",
            "loss after epoch:38 is 0.5012153864372522\n",
            "loss after epoch:39 is 0.46985335019417107\n",
            "loss after epoch:40 is 0.4405817771330476\n",
            "loss after epoch:41 is 0.4133638374041766\n",
            "loss after epoch:42 is 0.38911753077991307\n",
            "loss after epoch:43 is 0.36598848458379507\n",
            "loss after epoch:44 is 0.34513145429082215\n",
            "loss after epoch:45 is 0.32465613237582147\n",
            "loss after epoch:46 is 0.3055908650858328\n",
            "loss after epoch:47 is 0.28867063124198467\n",
            "loss after epoch:48 is 0.2718713984359056\n",
            "loss after epoch:49 is 0.2572567565366626\n",
            "loss after epoch:50 is 0.24263667513150722\n",
            "loss after epoch:51 is 0.22976297128479928\n",
            "loss after epoch:52 is 0.21689252962823957\n",
            "loss after epoch:53 is 0.2050933742430061\n",
            "loss after epoch:54 is 0.19422775437124074\n",
            "loss after epoch:55 is 0.1840017531067133\n",
            "loss after epoch:56 is 0.17418875242583454\n",
            "loss after epoch:57 is 0.16513409127946943\n",
            "loss after epoch:58 is 0.15634898765711114\n",
            "loss after epoch:59 is 0.14857734768884256\n",
            "loss after epoch:60 is 0.14066422189353034\n",
            "loss after epoch:61 is 0.1338775355834514\n",
            "loss after epoch:62 is 0.12679673969978467\n",
            "loss after epoch:63 is 0.12066777219297364\n",
            "loss after epoch:64 is 0.11417431337758899\n",
            "loss after epoch:65 is 0.1085610581212677\n",
            "loss after epoch:66 is 0.10342637862777337\n",
            "loss after epoch:67 is 0.09809633734403178\n",
            "loss after epoch:68 is 0.09312824788503349\n",
            "loss after epoch:69 is 0.08860672818263993\n",
            "loss after epoch:70 is 0.08423398149898276\n",
            "loss after epoch:71 is 0.08011289249407127\n",
            "loss after epoch:72 is 0.07608520917710848\n",
            "loss after epoch:73 is 0.07244847525726072\n",
            "loss after epoch:74 is 0.06895860482472926\n",
            "loss after epoch:75 is 0.06562088706414215\n",
            "loss after epoch:76 is 0.062408037774730474\n",
            "loss after epoch:77 is 0.05944061157060787\n",
            "loss after epoch:78 is 0.05657767815864645\n",
            "loss after epoch:79 is 0.05390623558196239\n",
            "loss after epoch:80 is 0.05126532309805043\n",
            "loss after epoch:81 is 0.048874612140934914\n",
            "loss after epoch:82 is 0.04654463304905221\n",
            "loss after epoch:83 is 0.04430451334337704\n",
            "loss after epoch:84 is 0.04219443062902428\n",
            "loss after epoch:85 is 0.040227865683846176\n",
            "loss after epoch:86 is 0.03833036769356113\n",
            "loss after epoch:87 is 0.03653887590917293\n",
            "loss after epoch:88 is 0.03483209437399637\n",
            "loss after epoch:89 is 0.033192551345564425\n",
            "loss after epoch:90 is 0.031682771019404754\n",
            "loss after epoch:91 is 0.030139023801893927\n",
            "loss after epoch:92 is 0.028730591890052892\n",
            "loss after epoch:93 is 0.027409605943830684\n",
            "loss after epoch:94 is 0.026150336474529468\n",
            "loss after epoch:95 is 0.02493227166996803\n",
            "loss after epoch:96 is 0.02376485467539169\n",
            "loss after epoch:97 is 0.022666296717943624\n",
            "loss after epoch:98 is 0.021605261383228935\n",
            "loss after epoch:99 is 0.020611551502952352\n"
          ]
        }
      ]
    },
    {
      "cell_type": "code",
      "source": [
        "ques = \"what is symbol of gold?\""
      ],
      "metadata": {
        "id": "AFvocueZlpOV"
      },
      "execution_count": 143,
      "outputs": []
    },
    {
      "cell_type": "code",
      "source": [
        "\n",
        "ques_embedding = embedding(ques,vocab)\n",
        "ques_tensor = torch.tensor(ques_embedding).unsqueeze(0) # unsqueeze to match size as in dataloader x,y\n",
        "pred =model(ques_tensor)\n",
        "output = torch.argmax(pred,dim=1)\n",
        "for i in vocab:\n",
        "\n",
        "  if vocab[i]==output:\n",
        "    print(i,end=\" \")\n",
        "    break"
      ],
      "metadata": {
        "colab": {
          "base_uri": "https://localhost:8080/"
        },
        "id": "U2ZqCorHiWFu",
        "outputId": "7819e39b-79ef-4b2c-8ab3-9b099ebc72b6"
      },
      "execution_count": 144,
      "outputs": [
        {
          "output_type": "stream",
          "name": "stdout",
          "text": [
            "au "
          ]
        }
      ]
    },
    {
      "cell_type": "code",
      "source": [],
      "metadata": {
        "id": "A3PboLZsk0CK"
      },
      "execution_count": null,
      "outputs": []
    }
  ]
}