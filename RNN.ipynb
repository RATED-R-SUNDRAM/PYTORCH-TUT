{
  "nbformat": 4,
  "nbformat_minor": 0,
  "metadata": {
    "colab": {
      "provenance": [],
      "gpuType": "T4"
    },
    "kernelspec": {
      "name": "python3",
      "display_name": "Python 3"
    },
    "language_info": {
      "name": "python"
    },
    "accelerator": "GPU"
  },
  "cells": [
    {
      "cell_type": "code",
      "execution_count": 1,
      "metadata": {
        "id": "e_YvDt_NUh7_"
      },
      "outputs": [],
      "source": [
        "import torch\n",
        "import pandas as pd\n",
        "import numpy as np\n",
        "import matplotlib.pyplot as plt\n",
        "from sklearn.model_selection import train_test_split\n",
        "from torch.utils.data import DataLoader, Dataset\n",
        "import torch.nn as nn"
      ]
    },
    {
      "cell_type": "code",
      "source": [
        "device= torch.device('cuda' if torch.cuda.is_available() else 'cpu')\n",
        "device"
      ],
      "metadata": {
        "colab": {
          "base_uri": "https://localhost:8080/"
        },
        "id": "m9-sfENJUnqQ",
        "outputId": "0305e272-9ee8-4e8c-c4bd-0ee4107fa979"
      },
      "execution_count": 127,
      "outputs": [
        {
          "output_type": "execute_result",
          "data": {
            "text/plain": [
              "device(type='cuda')"
            ]
          },
          "metadata": {},
          "execution_count": 127
        }
      ]
    },
    {
      "cell_type": "code",
      "source": [
        "df= pd.read_csv(r\"/content/sample_data/100_Unique_QA_Dataset.csv\")\n",
        "df.shape"
      ],
      "metadata": {
        "id": "9fk-LIZxU4jk",
        "colab": {
          "base_uri": "https://localhost:8080/"
        },
        "outputId": "91017883-7214-4770-afab-54804e3f778d"
      },
      "execution_count": 174,
      "outputs": [
        {
          "output_type": "execute_result",
          "data": {
            "text/plain": [
              "(90, 2)"
            ]
          },
          "metadata": {},
          "execution_count": 174
        }
      ]
    },
    {
      "cell_type": "code",
      "source": [
        "df.iloc[7]"
      ],
      "metadata": {
        "colab": {
          "base_uri": "https://localhost:8080/",
          "height": 146
        },
        "id": "-viBRabEX-Q0",
        "outputId": "7e44b7ad-cbe6-4c3e-c15e-c2d020c68302"
      },
      "execution_count": 4,
      "outputs": [
        {
          "output_type": "execute_result",
          "data": {
            "text/plain": [
              "question    What is the chemical symbol for gold?\n",
              "answer                                         Au\n",
              "Name: 7, dtype: object"
            ],
            "text/html": [
              "<div>\n",
              "<style scoped>\n",
              "    .dataframe tbody tr th:only-of-type {\n",
              "        vertical-align: middle;\n",
              "    }\n",
              "\n",
              "    .dataframe tbody tr th {\n",
              "        vertical-align: top;\n",
              "    }\n",
              "\n",
              "    .dataframe thead th {\n",
              "        text-align: right;\n",
              "    }\n",
              "</style>\n",
              "<table border=\"1\" class=\"dataframe\">\n",
              "  <thead>\n",
              "    <tr style=\"text-align: right;\">\n",
              "      <th></th>\n",
              "      <th>7</th>\n",
              "    </tr>\n",
              "  </thead>\n",
              "  <tbody>\n",
              "    <tr>\n",
              "      <th>question</th>\n",
              "      <td>What is the chemical symbol for gold?</td>\n",
              "    </tr>\n",
              "    <tr>\n",
              "      <th>answer</th>\n",
              "      <td>Au</td>\n",
              "    </tr>\n",
              "  </tbody>\n",
              "</table>\n",
              "</div><br><label><b>dtype:</b> object</label>"
            ]
          },
          "metadata": {},
          "execution_count": 4
        }
      ]
    },
    {
      "cell_type": "code",
      "source": [
        "\n",
        "def tokenize(a):\n",
        "  txt=a.lower()\n",
        "  txt=txt.replace(\"?\",\"\")\n",
        "  txt=txt.replace(\"'\",\"\")\n",
        "  return txt.split()"
      ],
      "metadata": {
        "id": "BuqsRtoiX-36"
      },
      "execution_count": 5,
      "outputs": []
    },
    {
      "cell_type": "code",
      "source": [
        "df['question_token'] = df['question'].apply(tokenize)\n",
        "df['answer_token']=df['answer'].apply(tokenize)"
      ],
      "metadata": {
        "id": "J9GChEpPYWnZ"
      },
      "execution_count": 6,
      "outputs": []
    },
    {
      "cell_type": "code",
      "source": [
        "df['merged']=df['question_token']+df['answer_token']\n",
        "df"
      ],
      "metadata": {
        "colab": {
          "base_uri": "https://localhost:8080/",
          "height": 423
        },
        "id": "nS-mvWoGbepl",
        "outputId": "afe8a980-8193-413e-87f9-ad55162c18a8"
      },
      "execution_count": 7,
      "outputs": [
        {
          "output_type": "execute_result",
          "data": {
            "text/plain": [
              "                                             question        answer  \\\n",
              "0                      What is the capital of France?         Paris   \n",
              "1                     What is the capital of Germany?        Berlin   \n",
              "2                  Who wrote 'To Kill a Mockingbird'?    Harper-Lee   \n",
              "3     What is the largest planet in our solar system?       Jupiter   \n",
              "4      What is the boiling point of water in Celsius?           100   \n",
              "..                                                ...           ...   \n",
              "85                  Who directed the movie 'Titanic'?  JamesCameron   \n",
              "86  Which superhero is also known as the Dark Knight?        Batman   \n",
              "87                     What is the capital of Brazil?      Brasilia   \n",
              "88        Which fruit is known as the king of fruits?         Mango   \n",
              "89       Which country is known for the Eiffel Tower?        France   \n",
              "\n",
              "                                       question_token    answer_token  \\\n",
              "0                [what, is, the, capital, of, france]         [paris]   \n",
              "1               [what, is, the, capital, of, germany]        [berlin]   \n",
              "2              [who, wrote, to, kill, a, mockingbird]    [harper-lee]   \n",
              "3   [what, is, the, largest, planet, in, our, sola...       [jupiter]   \n",
              "4   [what, is, the, boiling, point, of, water, in,...           [100]   \n",
              "..                                                ...             ...   \n",
              "85               [who, directed, the, movie, titanic]  [jamescameron]   \n",
              "86  [which, superhero, is, also, known, as, the, d...        [batman]   \n",
              "87               [what, is, the, capital, of, brazil]      [brasilia]   \n",
              "88  [which, fruit, is, known, as, the, king, of, f...         [mango]   \n",
              "89  [which, country, is, known, for, the, eiffel, ...        [france]   \n",
              "\n",
              "                                               merged  \n",
              "0         [what, is, the, capital, of, france, paris]  \n",
              "1       [what, is, the, capital, of, germany, berlin]  \n",
              "2   [who, wrote, to, kill, a, mockingbird, harper-...  \n",
              "3   [what, is, the, largest, planet, in, our, sola...  \n",
              "4   [what, is, the, boiling, point, of, water, in,...  \n",
              "..                                                ...  \n",
              "85  [who, directed, the, movie, titanic, jamescame...  \n",
              "86  [which, superhero, is, also, known, as, the, d...  \n",
              "87     [what, is, the, capital, of, brazil, brasilia]  \n",
              "88  [which, fruit, is, known, as, the, king, of, f...  \n",
              "89  [which, country, is, known, for, the, eiffel, ...  \n",
              "\n",
              "[90 rows x 5 columns]"
            ],
            "text/html": [
              "\n",
              "  <div id=\"df-8fb033eb-c0ea-4bf0-b356-1c91068b02a0\" class=\"colab-df-container\">\n",
              "    <div>\n",
              "<style scoped>\n",
              "    .dataframe tbody tr th:only-of-type {\n",
              "        vertical-align: middle;\n",
              "    }\n",
              "\n",
              "    .dataframe tbody tr th {\n",
              "        vertical-align: top;\n",
              "    }\n",
              "\n",
              "    .dataframe thead th {\n",
              "        text-align: right;\n",
              "    }\n",
              "</style>\n",
              "<table border=\"1\" class=\"dataframe\">\n",
              "  <thead>\n",
              "    <tr style=\"text-align: right;\">\n",
              "      <th></th>\n",
              "      <th>question</th>\n",
              "      <th>answer</th>\n",
              "      <th>question_token</th>\n",
              "      <th>answer_token</th>\n",
              "      <th>merged</th>\n",
              "    </tr>\n",
              "  </thead>\n",
              "  <tbody>\n",
              "    <tr>\n",
              "      <th>0</th>\n",
              "      <td>What is the capital of France?</td>\n",
              "      <td>Paris</td>\n",
              "      <td>[what, is, the, capital, of, france]</td>\n",
              "      <td>[paris]</td>\n",
              "      <td>[what, is, the, capital, of, france, paris]</td>\n",
              "    </tr>\n",
              "    <tr>\n",
              "      <th>1</th>\n",
              "      <td>What is the capital of Germany?</td>\n",
              "      <td>Berlin</td>\n",
              "      <td>[what, is, the, capital, of, germany]</td>\n",
              "      <td>[berlin]</td>\n",
              "      <td>[what, is, the, capital, of, germany, berlin]</td>\n",
              "    </tr>\n",
              "    <tr>\n",
              "      <th>2</th>\n",
              "      <td>Who wrote 'To Kill a Mockingbird'?</td>\n",
              "      <td>Harper-Lee</td>\n",
              "      <td>[who, wrote, to, kill, a, mockingbird]</td>\n",
              "      <td>[harper-lee]</td>\n",
              "      <td>[who, wrote, to, kill, a, mockingbird, harper-...</td>\n",
              "    </tr>\n",
              "    <tr>\n",
              "      <th>3</th>\n",
              "      <td>What is the largest planet in our solar system?</td>\n",
              "      <td>Jupiter</td>\n",
              "      <td>[what, is, the, largest, planet, in, our, sola...</td>\n",
              "      <td>[jupiter]</td>\n",
              "      <td>[what, is, the, largest, planet, in, our, sola...</td>\n",
              "    </tr>\n",
              "    <tr>\n",
              "      <th>4</th>\n",
              "      <td>What is the boiling point of water in Celsius?</td>\n",
              "      <td>100</td>\n",
              "      <td>[what, is, the, boiling, point, of, water, in,...</td>\n",
              "      <td>[100]</td>\n",
              "      <td>[what, is, the, boiling, point, of, water, in,...</td>\n",
              "    </tr>\n",
              "    <tr>\n",
              "      <th>...</th>\n",
              "      <td>...</td>\n",
              "      <td>...</td>\n",
              "      <td>...</td>\n",
              "      <td>...</td>\n",
              "      <td>...</td>\n",
              "    </tr>\n",
              "    <tr>\n",
              "      <th>85</th>\n",
              "      <td>Who directed the movie 'Titanic'?</td>\n",
              "      <td>JamesCameron</td>\n",
              "      <td>[who, directed, the, movie, titanic]</td>\n",
              "      <td>[jamescameron]</td>\n",
              "      <td>[who, directed, the, movie, titanic, jamescame...</td>\n",
              "    </tr>\n",
              "    <tr>\n",
              "      <th>86</th>\n",
              "      <td>Which superhero is also known as the Dark Knight?</td>\n",
              "      <td>Batman</td>\n",
              "      <td>[which, superhero, is, also, known, as, the, d...</td>\n",
              "      <td>[batman]</td>\n",
              "      <td>[which, superhero, is, also, known, as, the, d...</td>\n",
              "    </tr>\n",
              "    <tr>\n",
              "      <th>87</th>\n",
              "      <td>What is the capital of Brazil?</td>\n",
              "      <td>Brasilia</td>\n",
              "      <td>[what, is, the, capital, of, brazil]</td>\n",
              "      <td>[brasilia]</td>\n",
              "      <td>[what, is, the, capital, of, brazil, brasilia]</td>\n",
              "    </tr>\n",
              "    <tr>\n",
              "      <th>88</th>\n",
              "      <td>Which fruit is known as the king of fruits?</td>\n",
              "      <td>Mango</td>\n",
              "      <td>[which, fruit, is, known, as, the, king, of, f...</td>\n",
              "      <td>[mango]</td>\n",
              "      <td>[which, fruit, is, known, as, the, king, of, f...</td>\n",
              "    </tr>\n",
              "    <tr>\n",
              "      <th>89</th>\n",
              "      <td>Which country is known for the Eiffel Tower?</td>\n",
              "      <td>France</td>\n",
              "      <td>[which, country, is, known, for, the, eiffel, ...</td>\n",
              "      <td>[france]</td>\n",
              "      <td>[which, country, is, known, for, the, eiffel, ...</td>\n",
              "    </tr>\n",
              "  </tbody>\n",
              "</table>\n",
              "<p>90 rows × 5 columns</p>\n",
              "</div>\n",
              "    <div class=\"colab-df-buttons\">\n",
              "\n",
              "  <div class=\"colab-df-container\">\n",
              "    <button class=\"colab-df-convert\" onclick=\"convertToInteractive('df-8fb033eb-c0ea-4bf0-b356-1c91068b02a0')\"\n",
              "            title=\"Convert this dataframe to an interactive table.\"\n",
              "            style=\"display:none;\">\n",
              "\n",
              "  <svg xmlns=\"http://www.w3.org/2000/svg\" height=\"24px\" viewBox=\"0 -960 960 960\">\n",
              "    <path d=\"M120-120v-720h720v720H120Zm60-500h600v-160H180v160Zm220 220h160v-160H400v160Zm0 220h160v-160H400v160ZM180-400h160v-160H180v160Zm440 0h160v-160H620v160ZM180-180h160v-160H180v160Zm440 0h160v-160H620v160Z\"/>\n",
              "  </svg>\n",
              "    </button>\n",
              "\n",
              "  <style>\n",
              "    .colab-df-container {\n",
              "      display:flex;\n",
              "      gap: 12px;\n",
              "    }\n",
              "\n",
              "    .colab-df-convert {\n",
              "      background-color: #E8F0FE;\n",
              "      border: none;\n",
              "      border-radius: 50%;\n",
              "      cursor: pointer;\n",
              "      display: none;\n",
              "      fill: #1967D2;\n",
              "      height: 32px;\n",
              "      padding: 0 0 0 0;\n",
              "      width: 32px;\n",
              "    }\n",
              "\n",
              "    .colab-df-convert:hover {\n",
              "      background-color: #E2EBFA;\n",
              "      box-shadow: 0px 1px 2px rgba(60, 64, 67, 0.3), 0px 1px 3px 1px rgba(60, 64, 67, 0.15);\n",
              "      fill: #174EA6;\n",
              "    }\n",
              "\n",
              "    .colab-df-buttons div {\n",
              "      margin-bottom: 4px;\n",
              "    }\n",
              "\n",
              "    [theme=dark] .colab-df-convert {\n",
              "      background-color: #3B4455;\n",
              "      fill: #D2E3FC;\n",
              "    }\n",
              "\n",
              "    [theme=dark] .colab-df-convert:hover {\n",
              "      background-color: #434B5C;\n",
              "      box-shadow: 0px 1px 3px 1px rgba(0, 0, 0, 0.15);\n",
              "      filter: drop-shadow(0px 1px 2px rgba(0, 0, 0, 0.3));\n",
              "      fill: #FFFFFF;\n",
              "    }\n",
              "  </style>\n",
              "\n",
              "    <script>\n",
              "      const buttonEl =\n",
              "        document.querySelector('#df-8fb033eb-c0ea-4bf0-b356-1c91068b02a0 button.colab-df-convert');\n",
              "      buttonEl.style.display =\n",
              "        google.colab.kernel.accessAllowed ? 'block' : 'none';\n",
              "\n",
              "      async function convertToInteractive(key) {\n",
              "        const element = document.querySelector('#df-8fb033eb-c0ea-4bf0-b356-1c91068b02a0');\n",
              "        const dataTable =\n",
              "          await google.colab.kernel.invokeFunction('convertToInteractive',\n",
              "                                                    [key], {});\n",
              "        if (!dataTable) return;\n",
              "\n",
              "        const docLinkHtml = 'Like what you see? Visit the ' +\n",
              "          '<a target=\"_blank\" href=https://colab.research.google.com/notebooks/data_table.ipynb>data table notebook</a>'\n",
              "          + ' to learn more about interactive tables.';\n",
              "        element.innerHTML = '';\n",
              "        dataTable['output_type'] = 'display_data';\n",
              "        await google.colab.output.renderOutput(dataTable, element);\n",
              "        const docLink = document.createElement('div');\n",
              "        docLink.innerHTML = docLinkHtml;\n",
              "        element.appendChild(docLink);\n",
              "      }\n",
              "    </script>\n",
              "  </div>\n",
              "\n",
              "\n",
              "<div id=\"df-c4856782-9b49-4003-9732-ee1415913ce7\">\n",
              "  <button class=\"colab-df-quickchart\" onclick=\"quickchart('df-c4856782-9b49-4003-9732-ee1415913ce7')\"\n",
              "            title=\"Suggest charts\"\n",
              "            style=\"display:none;\">\n",
              "\n",
              "<svg xmlns=\"http://www.w3.org/2000/svg\" height=\"24px\"viewBox=\"0 0 24 24\"\n",
              "     width=\"24px\">\n",
              "    <g>\n",
              "        <path d=\"M19 3H5c-1.1 0-2 .9-2 2v14c0 1.1.9 2 2 2h14c1.1 0 2-.9 2-2V5c0-1.1-.9-2-2-2zM9 17H7v-7h2v7zm4 0h-2V7h2v10zm4 0h-2v-4h2v4z\"/>\n",
              "    </g>\n",
              "</svg>\n",
              "  </button>\n",
              "\n",
              "<style>\n",
              "  .colab-df-quickchart {\n",
              "      --bg-color: #E8F0FE;\n",
              "      --fill-color: #1967D2;\n",
              "      --hover-bg-color: #E2EBFA;\n",
              "      --hover-fill-color: #174EA6;\n",
              "      --disabled-fill-color: #AAA;\n",
              "      --disabled-bg-color: #DDD;\n",
              "  }\n",
              "\n",
              "  [theme=dark] .colab-df-quickchart {\n",
              "      --bg-color: #3B4455;\n",
              "      --fill-color: #D2E3FC;\n",
              "      --hover-bg-color: #434B5C;\n",
              "      --hover-fill-color: #FFFFFF;\n",
              "      --disabled-bg-color: #3B4455;\n",
              "      --disabled-fill-color: #666;\n",
              "  }\n",
              "\n",
              "  .colab-df-quickchart {\n",
              "    background-color: var(--bg-color);\n",
              "    border: none;\n",
              "    border-radius: 50%;\n",
              "    cursor: pointer;\n",
              "    display: none;\n",
              "    fill: var(--fill-color);\n",
              "    height: 32px;\n",
              "    padding: 0;\n",
              "    width: 32px;\n",
              "  }\n",
              "\n",
              "  .colab-df-quickchart:hover {\n",
              "    background-color: var(--hover-bg-color);\n",
              "    box-shadow: 0 1px 2px rgba(60, 64, 67, 0.3), 0 1px 3px 1px rgba(60, 64, 67, 0.15);\n",
              "    fill: var(--button-hover-fill-color);\n",
              "  }\n",
              "\n",
              "  .colab-df-quickchart-complete:disabled,\n",
              "  .colab-df-quickchart-complete:disabled:hover {\n",
              "    background-color: var(--disabled-bg-color);\n",
              "    fill: var(--disabled-fill-color);\n",
              "    box-shadow: none;\n",
              "  }\n",
              "\n",
              "  .colab-df-spinner {\n",
              "    border: 2px solid var(--fill-color);\n",
              "    border-color: transparent;\n",
              "    border-bottom-color: var(--fill-color);\n",
              "    animation:\n",
              "      spin 1s steps(1) infinite;\n",
              "  }\n",
              "\n",
              "  @keyframes spin {\n",
              "    0% {\n",
              "      border-color: transparent;\n",
              "      border-bottom-color: var(--fill-color);\n",
              "      border-left-color: var(--fill-color);\n",
              "    }\n",
              "    20% {\n",
              "      border-color: transparent;\n",
              "      border-left-color: var(--fill-color);\n",
              "      border-top-color: var(--fill-color);\n",
              "    }\n",
              "    30% {\n",
              "      border-color: transparent;\n",
              "      border-left-color: var(--fill-color);\n",
              "      border-top-color: var(--fill-color);\n",
              "      border-right-color: var(--fill-color);\n",
              "    }\n",
              "    40% {\n",
              "      border-color: transparent;\n",
              "      border-right-color: var(--fill-color);\n",
              "      border-top-color: var(--fill-color);\n",
              "    }\n",
              "    60% {\n",
              "      border-color: transparent;\n",
              "      border-right-color: var(--fill-color);\n",
              "    }\n",
              "    80% {\n",
              "      border-color: transparent;\n",
              "      border-right-color: var(--fill-color);\n",
              "      border-bottom-color: var(--fill-color);\n",
              "    }\n",
              "    90% {\n",
              "      border-color: transparent;\n",
              "      border-bottom-color: var(--fill-color);\n",
              "    }\n",
              "  }\n",
              "</style>\n",
              "\n",
              "  <script>\n",
              "    async function quickchart(key) {\n",
              "      const quickchartButtonEl =\n",
              "        document.querySelector('#' + key + ' button');\n",
              "      quickchartButtonEl.disabled = true;  // To prevent multiple clicks.\n",
              "      quickchartButtonEl.classList.add('colab-df-spinner');\n",
              "      try {\n",
              "        const charts = await google.colab.kernel.invokeFunction(\n",
              "            'suggestCharts', [key], {});\n",
              "      } catch (error) {\n",
              "        console.error('Error during call to suggestCharts:', error);\n",
              "      }\n",
              "      quickchartButtonEl.classList.remove('colab-df-spinner');\n",
              "      quickchartButtonEl.classList.add('colab-df-quickchart-complete');\n",
              "    }\n",
              "    (() => {\n",
              "      let quickchartButtonEl =\n",
              "        document.querySelector('#df-c4856782-9b49-4003-9732-ee1415913ce7 button');\n",
              "      quickchartButtonEl.style.display =\n",
              "        google.colab.kernel.accessAllowed ? 'block' : 'none';\n",
              "    })();\n",
              "  </script>\n",
              "</div>\n",
              "\n",
              "  <div id=\"id_a311e678-90f6-4325-bca8-ca5657692989\">\n",
              "    <style>\n",
              "      .colab-df-generate {\n",
              "        background-color: #E8F0FE;\n",
              "        border: none;\n",
              "        border-radius: 50%;\n",
              "        cursor: pointer;\n",
              "        display: none;\n",
              "        fill: #1967D2;\n",
              "        height: 32px;\n",
              "        padding: 0 0 0 0;\n",
              "        width: 32px;\n",
              "      }\n",
              "\n",
              "      .colab-df-generate:hover {\n",
              "        background-color: #E2EBFA;\n",
              "        box-shadow: 0px 1px 2px rgba(60, 64, 67, 0.3), 0px 1px 3px 1px rgba(60, 64, 67, 0.15);\n",
              "        fill: #174EA6;\n",
              "      }\n",
              "\n",
              "      [theme=dark] .colab-df-generate {\n",
              "        background-color: #3B4455;\n",
              "        fill: #D2E3FC;\n",
              "      }\n",
              "\n",
              "      [theme=dark] .colab-df-generate:hover {\n",
              "        background-color: #434B5C;\n",
              "        box-shadow: 0px 1px 3px 1px rgba(0, 0, 0, 0.15);\n",
              "        filter: drop-shadow(0px 1px 2px rgba(0, 0, 0, 0.3));\n",
              "        fill: #FFFFFF;\n",
              "      }\n",
              "    </style>\n",
              "    <button class=\"colab-df-generate\" onclick=\"generateWithVariable('df')\"\n",
              "            title=\"Generate code using this dataframe.\"\n",
              "            style=\"display:none;\">\n",
              "\n",
              "  <svg xmlns=\"http://www.w3.org/2000/svg\" height=\"24px\"viewBox=\"0 0 24 24\"\n",
              "       width=\"24px\">\n",
              "    <path d=\"M7,19H8.4L18.45,9,17,7.55,7,17.6ZM5,21V16.75L18.45,3.32a2,2,0,0,1,2.83,0l1.4,1.43a1.91,1.91,0,0,1,.58,1.4,1.91,1.91,0,0,1-.58,1.4L9.25,21ZM18.45,9,17,7.55Zm-12,3A5.31,5.31,0,0,0,4.9,8.1,5.31,5.31,0,0,0,1,6.5,5.31,5.31,0,0,0,4.9,4.9,5.31,5.31,0,0,0,6.5,1,5.31,5.31,0,0,0,8.1,4.9,5.31,5.31,0,0,0,12,6.5,5.46,5.46,0,0,0,6.5,12Z\"/>\n",
              "  </svg>\n",
              "    </button>\n",
              "    <script>\n",
              "      (() => {\n",
              "      const buttonEl =\n",
              "        document.querySelector('#id_a311e678-90f6-4325-bca8-ca5657692989 button.colab-df-generate');\n",
              "      buttonEl.style.display =\n",
              "        google.colab.kernel.accessAllowed ? 'block' : 'none';\n",
              "\n",
              "      buttonEl.onclick = () => {\n",
              "        google.colab.notebook.generateWithVariable('df');\n",
              "      }\n",
              "      })();\n",
              "    </script>\n",
              "  </div>\n",
              "\n",
              "    </div>\n",
              "  </div>\n"
            ],
            "application/vnd.google.colaboratory.intrinsic+json": {
              "type": "dataframe",
              "variable_name": "df",
              "summary": "{\n  \"name\": \"df\",\n  \"rows\": 90,\n  \"fields\": [\n    {\n      \"column\": \"question\",\n      \"properties\": {\n        \"dtype\": \"string\",\n        \"num_unique_values\": 90,\n        \"samples\": [\n          \"What is the currency of China?\",\n          \"What is the capital of Australia?\",\n          \"Who discovered electricity?\"\n        ],\n        \"semantic_type\": \"\",\n        \"description\": \"\"\n      }\n    },\n    {\n      \"column\": \"answer\",\n      \"properties\": {\n        \"dtype\": \"string\",\n        \"num_unique_values\": 85,\n        \"samples\": [\n          \"ChristopherColumbus\",\n          \"Paris\",\n          \"Christmas\"\n        ],\n        \"semantic_type\": \"\",\n        \"description\": \"\"\n      }\n    },\n    {\n      \"column\": \"question_token\",\n      \"properties\": {\n        \"dtype\": \"object\",\n        \"semantic_type\": \"\",\n        \"description\": \"\"\n      }\n    },\n    {\n      \"column\": \"answer_token\",\n      \"properties\": {\n        \"dtype\": \"object\",\n        \"semantic_type\": \"\",\n        \"description\": \"\"\n      }\n    },\n    {\n      \"column\": \"merged\",\n      \"properties\": {\n        \"dtype\": \"object\",\n        \"semantic_type\": \"\",\n        \"description\": \"\"\n      }\n    }\n  ]\n}"
            }
          },
          "metadata": {},
          "execution_count": 7
        }
      ]
    },
    {
      "cell_type": "code",
      "source": [
        "vocab={\"<un>\":0}\n",
        "for i in df['merged']:\n",
        "\n",
        "  for j in i:\n",
        "    if j not in vocab:\n",
        "      vocab[j]=len(vocab)\n",
        "\n"
      ],
      "metadata": {
        "id": "pgUTjaoHYeYF"
      },
      "execution_count": 8,
      "outputs": []
    },
    {
      "cell_type": "code",
      "source": [
        "def embedding(a,vocab):\n",
        "  arr=tokenize(a)\n",
        "  emb=[]\n",
        "  for i in arr:\n",
        "    if i not in vocab:\n",
        "      emb.append(vocab[\"<un>\"])\n",
        "    else:\n",
        "      emb.append(vocab[i])\n",
        "  return emb"
      ],
      "metadata": {
        "id": "-rlfkjWuZHdX"
      },
      "execution_count": 35,
      "outputs": []
    },
    {
      "cell_type": "code",
      "source": [
        "embedding(df.iloc[7]['question'],vocab)"
      ],
      "metadata": {
        "colab": {
          "base_uri": "https://localhost:8080/"
        },
        "id": "YDU6VrJFeX61",
        "outputId": "e32fe1eb-c816-4fd7-ff5d-e15aaeb53ef9"
      },
      "execution_count": 36,
      "outputs": [
        {
          "output_type": "execute_result",
          "data": {
            "text/plain": [
              "[1, 2, 3, 37, 38, 39, 40]"
            ]
          },
          "metadata": {},
          "execution_count": 36
        }
      ]
    },
    {
      "cell_type": "code",
      "source": [
        "class custom_dataset(Dataset):\n",
        "  def __init__(self,df,vocab):\n",
        "    self.df=df\n",
        "    self.vocab=vocab\n",
        "  def __len__(self):\n",
        "    return len(self.df)\n",
        "  def __getitem__(self,idx):\n",
        "    question=torch.tensor(embedding(self.df.iloc[idx]['question'],self.vocab))\n",
        "    answer=torch.tensor(embedding(self.df.iloc[idx]['answer'],self.vocab))\n",
        "    return question,answer"
      ],
      "metadata": {
        "id": "PPvt-flMZRxY"
      },
      "execution_count": 100,
      "outputs": []
    },
    {
      "cell_type": "code",
      "source": [
        "vocab_len = len(vocab)\n",
        "vocab_len\n",
        "data = custom_dataset(df,vocab)\n"
      ],
      "metadata": {
        "id": "jPPAs6aMZgnI"
      },
      "execution_count": 101,
      "outputs": []
    },
    {
      "cell_type": "code",
      "source": [
        "import torch.nn.functional as F\n",
        "\n",
        "# Define the maximum sequence length\n",
        "MAX_LENGTH = vocab_len # Pad all sequences to this length\n",
        "\n",
        "# Custom collate function with fixed length and padding direction\n",
        "def collate_fn(batch):\n",
        "    # Unpack the batch into inputs (x) and labels (y), convert tuples to lists\n",
        "    x, y = list(zip(*batch))  # Convert tuple to list\n",
        "\n",
        "    # Convert each sequence to a tensor\n",
        "    x_tensors = [torch.tensor(seq) for seq in x]\n",
        "\n",
        "    # Pad each sequence to MAX_LENGTH\n",
        "    x_padded = []\n",
        "    for seq in x_tensors:\n",
        "        seq_len = seq.size(0)  # Length of the current sequence\n",
        "        if seq_len < MAX_LENGTH:\n",
        "            # Calculate padding needed\n",
        "            padding_size = MAX_LENGTH - seq_len\n",
        "\n",
        "            # Right padding: pad at the end\n",
        "            padded_seq = F.pad(seq, (padding_size,0), value=0)\n",
        "\n",
        "            # For left padding, uncomment the line below instead\n",
        "            # padded_seq = F.pad(seq, (padding_size, 0), value=0)\n",
        "\n",
        "            x_padded.append(padded_seq)\n",
        "        else:\n",
        "            # If sequence is longer than MAX_LENGTH, truncate it\n",
        "            x_padded.append(seq[:MAX_LENGTH])\n",
        "\n",
        "    # Stack the padded sequences into a batch\n",
        "    x_padded = torch.stack(x_padded)\n",
        "\n",
        "    # Convert y to a tensor\n",
        "    y = torch.tensor(y)\n",
        "\n",
        "    return x_padded, y\n",
        "\n",
        "# Create the DataLoader with the custom collate function and a larger batch size\n",
        "dataloader = DataLoader(data, batch_size=4, shuffle=True, collate_fn=collate_fn)"
      ],
      "metadata": {
        "id": "zWWMZdbdgEnW"
      },
      "execution_count": 117,
      "outputs": []
    },
    {
      "cell_type": "code",
      "source": [
        "dataloader = DataLoader(data, batch_size=2, shuffle=True,collate_fn=collate_fn)"
      ],
      "metadata": {
        "id": "kuYYK8c6Zlqr"
      },
      "execution_count": 118,
      "outputs": []
    },
    {
      "cell_type": "code",
      "source": [
        "x,y = next(iter(dataloader))\n",
        "print(x)\n",
        "print(x.shape,y.shape)"
      ],
      "metadata": {
        "colab": {
          "base_uri": "https://localhost:8080/"
        },
        "id": "o2nGXf6Ni9PS",
        "outputId": "39812aa3-2db6-4ba4-f87d-978082e823f5"
      },
      "execution_count": 120,
      "outputs": [
        {
          "output_type": "stream",
          "name": "stdout",
          "text": [
            "tensor([[  0,   0,   0,   0,   0,   0,   0,   0,   0,   0,   0,   0,   0,   0,\n",
            "           0,   0,   0,   0,   0,   0,   0,   0,   0,   0,   0,   0,   0,   0,\n",
            "           0,   0,   0,   0,   0,   0,   0,   0,   0,   0,   0,   0,   0,   0,\n",
            "           0,   0,   0,   0,   0,   0,   0,   0,   0,   0,   0,   0,   0,   0,\n",
            "           0,   0,   0,   0,   0,   0,   0,   0,   0,   0,   0,   0,   0,   0,\n",
            "           0,   0,   0,   0,   0,   0,   0,   0,   0,   0,   0,   0,   0,   0,\n",
            "           0,   0,   0,   0,   0,   0,   0,   0,   0,   0,   0,   0,   0,   0,\n",
            "           0,   0,   0,   0,   0,   0,   0,   0,   0,   0,   0,   0,   0,   0,\n",
            "           0,   0,   0,   0,   0,   0,   0,   0,   0,   0,   0,   0,   0,   0,\n",
            "           0,   0,   0,   0,   0,   0,   0,   0,   0,   0,   0,   0,   0,   0,\n",
            "           0,   0,   0,   0,   0,   0,   0,   0,   0,   0,   0,   0,   0,   0,\n",
            "           0,   0,   0,   0,   0,   0,   0,   0,   0,   0,   0,   0,   0,   0,\n",
            "           0,   0,   0,   0,   0,   0,   0,   0,   0,   0,   0,   0,   0,   0,\n",
            "           0,   0,   0,   0,   0,   0,   0,   0,   0,   0,   0,   0,   0,   0,\n",
            "           0,   0,   0,   0,   0,   0,   0,   0,   0,   0,   0,   0,   0,   0,\n",
            "           0,   0,   0,   0,   0,   0,   0,   0,   0,   0,   0,   0,   0,   0,\n",
            "           0,   0,   0,   0,   0,   0,   0,   0,   0,   0,   0,   0,   0,   0,\n",
            "           0,   0,   0,   0,   0,   0,   0,   0,   0,   0,   0,   0,   0,   0,\n",
            "           0,   0,   0,   0,   0,   0,   0,   0,   0,   0,   0,   0,   0,   0,\n",
            "           0,   0,   0,   0,   0,   0,   0,   0,   0,   0,   0,   0,   0,   0,\n",
            "           0,   0,   0,   0,   0,   0,   0,   0,   0,   0,   0,   0,   0,   0,\n",
            "           0,   0,   0,   0,   0,   0,   0,   0,   0,   0,   0,   0,   0,   0,\n",
            "           0,   0,   0,   0,   0,   0,   0,   0,   0,   0,   0,  10,  96,   3,\n",
            "         104, 239],\n",
            "        [  0,   0,   0,   0,   0,   0,   0,   0,   0,   0,   0,   0,   0,   0,\n",
            "           0,   0,   0,   0,   0,   0,   0,   0,   0,   0,   0,   0,   0,   0,\n",
            "           0,   0,   0,   0,   0,   0,   0,   0,   0,   0,   0,   0,   0,   0,\n",
            "           0,   0,   0,   0,   0,   0,   0,   0,   0,   0,   0,   0,   0,   0,\n",
            "           0,   0,   0,   0,   0,   0,   0,   0,   0,   0,   0,   0,   0,   0,\n",
            "           0,   0,   0,   0,   0,   0,   0,   0,   0,   0,   0,   0,   0,   0,\n",
            "           0,   0,   0,   0,   0,   0,   0,   0,   0,   0,   0,   0,   0,   0,\n",
            "           0,   0,   0,   0,   0,   0,   0,   0,   0,   0,   0,   0,   0,   0,\n",
            "           0,   0,   0,   0,   0,   0,   0,   0,   0,   0,   0,   0,   0,   0,\n",
            "           0,   0,   0,   0,   0,   0,   0,   0,   0,   0,   0,   0,   0,   0,\n",
            "           0,   0,   0,   0,   0,   0,   0,   0,   0,   0,   0,   0,   0,   0,\n",
            "           0,   0,   0,   0,   0,   0,   0,   0,   0,   0,   0,   0,   0,   0,\n",
            "           0,   0,   0,   0,   0,   0,   0,   0,   0,   0,   0,   0,   0,   0,\n",
            "           0,   0,   0,   0,   0,   0,   0,   0,   0,   0,   0,   0,   0,   0,\n",
            "           0,   0,   0,   0,   0,   0,   0,   0,   0,   0,   0,   0,   0,   0,\n",
            "           0,   0,   0,   0,   0,   0,   0,   0,   0,   0,   0,   0,   0,   0,\n",
            "           0,   0,   0,   0,   0,   0,   0,   0,   0,   0,   0,   0,   0,   0,\n",
            "           0,   0,   0,   0,   0,   0,   0,   0,   0,   0,   0,   0,   0,   0,\n",
            "           0,   0,   0,   0,   0,   0,   0,   0,   0,   0,   0,   0,   0,   0,\n",
            "           0,   0,   0,   0,   0,   0,   0,   0,   0,   0,   0,   0,   0,   0,\n",
            "           0,   0,   0,   0,   0,   0,   0,   0,   0,   0,   0,   0,   0,   0,\n",
            "           0,   0,   0,   0,   0,   0,   0,   0,   0,   0,   0,   0,   0,   0,\n",
            "           0,   0,   0,   0,   0,   0,   0,   0,   0,   0,   1,   2,   3,   4,\n",
            "           5, 113]])\n",
            "torch.Size([2, 324]) torch.Size([2])\n"
          ]
        },
        {
          "output_type": "stream",
          "name": "stderr",
          "text": [
            "<ipython-input-117-035e420ac5a7>:12: UserWarning: To copy construct from a tensor, it is recommended to use sourceTensor.clone().detach() or sourceTensor.clone().detach().requires_grad_(True), rather than torch.tensor(sourceTensor).\n",
            "  x_tensors = [torch.tensor(seq) for seq in x]\n"
          ]
        }
      ]
    },
    {
      "cell_type": "code",
      "source": [],
      "metadata": {
        "colab": {
          "base_uri": "https://localhost:8080/"
        },
        "id": "7lSpZkP3gx3r",
        "outputId": "dff1fcc4-b4f7-4bf9-fa62-7ab0674c55f3"
      },
      "execution_count": 116,
      "outputs": [
        {
          "output_type": "execute_result",
          "data": {
            "text/plain": [
              "324"
            ]
          },
          "metadata": {},
          "execution_count": 116
        }
      ]
    },
    {
      "cell_type": "markdown",
      "source": [
        "### IN THE MODEL CLASS WE CAN't USE SEQUENTIAL BECAUSE IT EXPECTS ONE OUTPUT OF EACH OF PREVIOUS LAYERS BUT RNN GIVES 2 OUTPUTS HIDDEN STATE AND OUTPUT OF HIDDEN LAYER BOTH\n",
        "\n",
        "### ALSO WE CONVERTING INPUT TO BE 50 DIMENSIONAL NEURON SO EACH WORD WILL HAVE 50 DIMENSIONAL NEURON"
      ],
      "metadata": {
        "id": "eb7tWcKxfNJw"
      }
    },
    {
      "cell_type": "code",
      "source": [],
      "metadata": {
        "id": "ROaRn7IgUimj"
      },
      "execution_count": 33,
      "outputs": []
    },
    {
      "cell_type": "code",
      "source": [
        "embedding3 = nn.Embedding(vocab_len,50)\n",
        "for i in range(10):\n",
        "  x,y = next(iter(dataloader))\n",
        "  print(x.shape,y.shape,end=\" : \")\n",
        "\n",
        "  print(embedding3(x).shape)"
      ],
      "metadata": {
        "colab": {
          "base_uri": "https://localhost:8080/"
        },
        "id": "KtJbCaT0TKn9",
        "outputId": "8128a8cc-9be2-4e59-9b97-b74497e6e9c3"
      },
      "execution_count": 121,
      "outputs": [
        {
          "output_type": "stream",
          "name": "stdout",
          "text": [
            "torch.Size([2, 324]) torch.Size([2]) : torch.Size([2, 324, 50])\n",
            "torch.Size([2, 324]) torch.Size([2]) : torch.Size([2, 324, 50])\n",
            "torch.Size([2, 324]) torch.Size([2]) : torch.Size([2, 324, 50])\n",
            "torch.Size([2, 324]) torch.Size([2]) : torch.Size([2, 324, 50])\n",
            "torch.Size([2, 324]) torch.Size([2]) : torch.Size([2, 324, 50])\n",
            "torch.Size([2, 324]) torch.Size([2]) : torch.Size([2, 324, 50])\n",
            "torch.Size([2, 324]) torch.Size([2]) : torch.Size([2, 324, 50])\n",
            "torch.Size([2, 324]) torch.Size([2]) : torch.Size([2, 324, 50])\n",
            "torch.Size([2, 324]) torch.Size([2]) : torch.Size([2, 324, 50])\n",
            "torch.Size([2, 324]) torch.Size([2]) : torch.Size([2, 324, 50])\n"
          ]
        },
        {
          "output_type": "stream",
          "name": "stderr",
          "text": [
            "<ipython-input-117-035e420ac5a7>:12: UserWarning: To copy construct from a tensor, it is recommended to use sourceTensor.clone().detach() or sourceTensor.clone().detach().requires_grad_(True), rather than torch.tensor(sourceTensor).\n",
            "  x_tensors = [torch.tensor(seq) for seq in x]\n"
          ]
        }
      ]
    },
    {
      "cell_type": "code",
      "source": [
        "class Model(nn.Module):\n",
        "  def __init__(self,vocab_len):\n",
        "    super(Model,self).__init__()\n",
        "    self.embedding=nn.Embedding(vocab_len,50)\n",
        "    self.rnn=nn.RNN(50,128,batch_first=True)\n",
        "    self.fc=nn.Linear(128,vocab_len)\n",
        "  def forward(self,x):\n",
        "    x=self.embedding(x)\n",
        "    x,_=self.rnn(x)\n",
        "    x=self.fc(_.squeeze(0))\n",
        "    return x"
      ],
      "metadata": {
        "id": "QmoFQP7rZraY"
      },
      "execution_count": 122,
      "outputs": []
    },
    {
      "cell_type": "code",
      "source": [],
      "metadata": {
        "id": "ehDCPqJbkQ3p"
      },
      "execution_count": 122,
      "outputs": []
    },
    {
      "cell_type": "code",
      "source": [
        "model = Model(vocab_len).to(device)\n"
      ],
      "metadata": {
        "id": "dGQBN6XafEf8"
      },
      "execution_count": 160,
      "outputs": []
    },
    {
      "cell_type": "code",
      "source": [
        "\n",
        "loss = nn.CrossEntropyLoss()\n",
        "optim = torch.optim.Adam(model.parameters(), lr=0.001)"
      ],
      "metadata": {
        "id": "_xeTA6qUhXtI"
      },
      "execution_count": 161,
      "outputs": []
    },
    {
      "cell_type": "code",
      "source": [
        "for i in range(1000):\n",
        "  net_loss=0\n",
        "  for x,y in dataloader:\n",
        "    x,y=x.to(device),y.to(device)\n",
        "    output = model(x)\n",
        "\n",
        "    optim.zero_grad()\n",
        "\n",
        "    l= loss(output,y)\n",
        "\n",
        "    l.backward()\n",
        "\n",
        "    optim.step()\n",
        "    net_loss+=l.item()\n",
        "  #print(f\"loss after epoch:{i} is {net_loss/len(x)}\")\n"
      ],
      "metadata": {
        "colab": {
          "base_uri": "https://localhost:8080/"
        },
        "id": "sUF8rSrmhfc7",
        "outputId": "79c10d13-68bf-41f2-f652-29fb645b4dcf"
      },
      "execution_count": 162,
      "outputs": [
        {
          "output_type": "stream",
          "name": "stderr",
          "text": [
            "<ipython-input-117-035e420ac5a7>:12: UserWarning: To copy construct from a tensor, it is recommended to use sourceTensor.clone().detach() or sourceTensor.clone().detach().requires_grad_(True), rather than torch.tensor(sourceTensor).\n",
            "  x_tensors = [torch.tensor(seq) for seq in x]\n"
          ]
        }
      ]
    },
    {
      "cell_type": "code",
      "source": [
        "\n",
        "\n"
      ],
      "metadata": {
        "id": "AFvocueZlpOV"
      },
      "execution_count": 163,
      "outputs": []
    },
    {
      "cell_type": "code",
      "source": [
        "def model_output(ques):\n",
        "\n",
        "  ques_embedding = torch.tensor(embedding(ques,vocab)).to(device)\n",
        "  padding=torch.tensor([0]*(vocab_len-len(ques_embedding))).to(device)\n",
        "  ques_tensor = torch.cat([padding,torch.tensor(ques_embedding)],dim=0) # unsqueeze to match size as in dataloader x,y\n",
        "  pred =model(ques_tensor.unsqueeze(0)) # unsqueeze to add a dimension of batch\n",
        "  output = torch.argmax(pred,dim=1)\n",
        "  for i in vocab:\n",
        "\n",
        "    if vocab[i]==output:\n",
        "      return i\n",
        "      break"
      ],
      "metadata": {
        "id": "U2ZqCorHiWFu"
      },
      "execution_count": 167,
      "outputs": []
    },
    {
      "cell_type": "code",
      "source": [
        "print(model_output(\"what is the capital of US?\"))"
      ],
      "metadata": {
        "colab": {
          "base_uri": "https://localhost:8080/"
        },
        "id": "Nm8Nll0Dq9nV",
        "outputId": "82245348-6ea3-4c1f-ce7b-6df297582177"
      },
      "execution_count": 172,
      "outputs": [
        {
          "output_type": "stream",
          "name": "stdout",
          "text": [
            "tokyo\n"
          ]
        }
      ]
    },
    {
      "cell_type": "code",
      "source": [],
      "metadata": {
        "id": "tVINtSonrNO_"
      },
      "execution_count": 170,
      "outputs": []
    }
  ]
}