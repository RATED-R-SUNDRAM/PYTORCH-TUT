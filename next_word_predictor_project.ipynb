{
  "nbformat": 4,
  "nbformat_minor": 0,
  "metadata": {
    "colab": {
      "provenance": []
    },
    "kernelspec": {
      "name": "python3",
      "display_name": "Python 3"
    },
    "language_info": {
      "name": "python"
    }
  },
  "cells": [
    {
      "cell_type": "code",
      "execution_count": 1,
      "metadata": {
        "colab": {
          "base_uri": "https://localhost:8080/"
        },
        "id": "wL_1oLB_gPxO",
        "outputId": "e13be438-f1ac-437c-a072-5f5fed907191"
      },
      "outputs": [
        {
          "output_type": "stream",
          "name": "stderr",
          "text": [
            "[nltk_data] Downloading package punkt_tab to /root/nltk_data...\n",
            "[nltk_data]   Unzipping tokenizers/punkt_tab.zip.\n"
          ]
        },
        {
          "output_type": "execute_result",
          "data": {
            "text/plain": [
              "True"
            ]
          },
          "metadata": {},
          "execution_count": 1
        }
      ],
      "source": [
        "import nltk\n",
        "nltk.download('punkt_tab')"
      ]
    },
    {
      "cell_type": "code",
      "source": [
        "\n",
        "import torch\n",
        "import pandas as pd\n",
        "import numpy as np\n",
        "import matplotlib.pyplot as plt\n",
        "from sklearn.model_selection import train_test_split\n",
        "from torch.utils.data import DataLoader, Dataset\n",
        "import torch.nn as nn\n",
        "import nltk\n",
        "from nltk.tokenize import word_tokenize"
      ],
      "metadata": {
        "id": "TLFgZ-LWgV7_"
      },
      "execution_count": 3,
      "outputs": []
    },
    {
      "cell_type": "code",
      "source": [
        "device= torch.device('cuda' if torch.cuda.is_available() else 'cpu')\n",
        "device"
      ],
      "metadata": {
        "colab": {
          "base_uri": "https://localhost:8080/"
        },
        "id": "hxjfRgNugaCa",
        "outputId": "3f4ba77a-f512-4876-bd03-6685324749b0"
      },
      "execution_count": 4,
      "outputs": [
        {
          "output_type": "execute_result",
          "data": {
            "text/plain": [
              "device(type='cpu')"
            ]
          },
          "metadata": {},
          "execution_count": 4
        }
      ]
    },
    {
      "cell_type": "code",
      "source": [
        "document = \"\"\"The sun peeked over the horizon. The sky turned golden. Birds stretched their wings. A cool breeze swept through the trees. Leaves rustled. The air smelled fresh.\n",
        "\n",
        "A cat sat on the fence. It watched the street. A car rolled past. Its engine hummed softly. A cyclist swerved to avoid a puddle. The road was still wet from last night’s rain.\n",
        "\n",
        "Emma walked outside. She zipped up her coat. Her breath formed a cloud. The city was waking up. A bakery smelled of warm bread. A man sipped his coffee. A child tugged at his mother’s sleeve.\n",
        "\n",
        "The bus arrived. People rushed in. Emma took a window seat. The bus moved. Buildings blurred past. A woman read a book. A man checked his watch. A teenager tapped on his phone.\n",
        "\n",
        "Traffic lights turned red. Cars lined up. A truck honked loudly. A pigeon fluttered away. The bus stopped. More passengers entered. Emma looked outside. The park was empty. The fountain was dry.\n",
        "\n",
        "A signboard caught her eye. “Missing Person.” The face looked familiar. She frowned. Where had she seen it before? She searched her memory. Nothing came. The bus moved again.\n",
        "\n",
        "At the next stop, she got off. The street smelled of coffee. Vendors arranged their goods. A boy chased a balloon. A street musician tuned his guitar. A police siren wailed in the distance.\n",
        "\n",
        "She walked into the library. It was quiet. A librarian smiled at her. She picked a book. The pages felt rough. A note slipped out. She picked it up. It had only three words: “Meet me outside.”\n",
        "\n",
        "She looked around. No one was watching. Her heart pounded. She took a deep breath. She folded the note. She put it in her pocket.\n",
        "\n",
        "Outside, the wind was stronger. The trees swayed. A dog barked. She scanned the street. No one seemed unusual. But something felt wrong.\n",
        "\n",
        "A figure stood near the bench. He wore a dark coat. His hands were in his pockets. She took a step forward. He turned. Their eyes met.\n",
        "\n",
        "Everything suddenly made sense.\"\"\""
      ],
      "metadata": {
        "id": "UAh1_g4EhBDU"
      },
      "execution_count": 5,
      "outputs": []
    },
    {
      "cell_type": "code",
      "source": [
        "sentences = document.split('.')\n",
        "sentences = [sentence.strip() for sentence in sentences]\n",
        "\n",
        "for i in sentences:\n",
        "  print(i)\n"
      ],
      "metadata": {
        "colab": {
          "base_uri": "https://localhost:8080/"
        },
        "id": "EAq35MSghLL2",
        "outputId": "186f777e-560f-4932-dc4f-ff0db625c41d"
      },
      "execution_count": 6,
      "outputs": [
        {
          "output_type": "stream",
          "name": "stdout",
          "text": [
            "The sun peeked over the horizon\n",
            "The sky turned golden\n",
            "Birds stretched their wings\n",
            "A cool breeze swept through the trees\n",
            "Leaves rustled\n",
            "The air smelled fresh\n",
            "A cat sat on the fence\n",
            "It watched the street\n",
            "A car rolled past\n",
            "Its engine hummed softly\n",
            "A cyclist swerved to avoid a puddle\n",
            "The road was still wet from last night’s rain\n",
            "Emma walked outside\n",
            "She zipped up her coat\n",
            "Her breath formed a cloud\n",
            "The city was waking up\n",
            "A bakery smelled of warm bread\n",
            "A man sipped his coffee\n",
            "A child tugged at his mother’s sleeve\n",
            "The bus arrived\n",
            "People rushed in\n",
            "Emma took a window seat\n",
            "The bus moved\n",
            "Buildings blurred past\n",
            "A woman read a book\n",
            "A man checked his watch\n",
            "A teenager tapped on his phone\n",
            "Traffic lights turned red\n",
            "Cars lined up\n",
            "A truck honked loudly\n",
            "A pigeon fluttered away\n",
            "The bus stopped\n",
            "More passengers entered\n",
            "Emma looked outside\n",
            "The park was empty\n",
            "The fountain was dry\n",
            "A signboard caught her eye\n",
            "“Missing Person\n",
            "” The face looked familiar\n",
            "She frowned\n",
            "Where had she seen it before? She searched her memory\n",
            "Nothing came\n",
            "The bus moved again\n",
            "At the next stop, she got off\n",
            "The street smelled of coffee\n",
            "Vendors arranged their goods\n",
            "A boy chased a balloon\n",
            "A street musician tuned his guitar\n",
            "A police siren wailed in the distance\n",
            "She walked into the library\n",
            "It was quiet\n",
            "A librarian smiled at her\n",
            "She picked a book\n",
            "The pages felt rough\n",
            "A note slipped out\n",
            "She picked it up\n",
            "It had only three words: “Meet me outside\n",
            "”\n",
            "\n",
            "She looked around\n",
            "No one was watching\n",
            "Her heart pounded\n",
            "She took a deep breath\n",
            "She folded the note\n",
            "She put it in her pocket\n",
            "Outside, the wind was stronger\n",
            "The trees swayed\n",
            "A dog barked\n",
            "She scanned the street\n",
            "No one seemed unusual\n",
            "But something felt wrong\n",
            "A figure stood near the bench\n",
            "He wore a dark coat\n",
            "His hands were in his pockets\n",
            "She took a step forward\n",
            "He turned\n",
            "Their eyes met\n",
            "Everything suddenly made sense\n",
            "\n"
          ]
        }
      ]
    },
    {
      "cell_type": "code",
      "source": [
        "word_tokenize(sentences[0])"
      ],
      "metadata": {
        "colab": {
          "base_uri": "https://localhost:8080/"
        },
        "id": "mHhQrEIsjJZ-",
        "outputId": "22d5d467-b38f-4aaa-a3d1-763076f459c9"
      },
      "execution_count": 7,
      "outputs": [
        {
          "output_type": "execute_result",
          "data": {
            "text/plain": [
              "['The', 'sun', 'peeked', 'over', 'the', 'horizon']"
            ]
          },
          "metadata": {},
          "execution_count": 7
        }
      ]
    },
    {
      "cell_type": "code",
      "source": [
        "\n",
        "vocab = {}\n",
        "cnt=0\n",
        "for sentence in sentences:\n",
        "  words = word_tokenize(sentence)\n",
        "  for word in words:\n",
        "    if word not in vocab:\n",
        "\n",
        "      vocab[word] = cnt\n",
        "      cnt+=1\n",
        "\n",
        "print(f\"len of vocab : {len(vocab)}\")\n"
      ],
      "metadata": {
        "colab": {
          "base_uri": "https://localhost:8080/"
        },
        "id": "11PM7ZIrh5jx",
        "outputId": "22b246cc-4a93-40b8-edb5-8b9fc682f453"
      },
      "execution_count": 44,
      "outputs": [
        {
          "output_type": "stream",
          "name": "stdout",
          "text": [
            "len of vocab : 221\n"
          ]
        }
      ]
    },
    {
      "cell_type": "code",
      "source": [
        "def vocab_and_indexing(a,vocab):\n",
        "  arr=[]\n",
        "  for words in word_tokenize(a):\n",
        "    arr.append(vocab[words])\n",
        "  return arr"
      ],
      "metadata": {
        "id": "yO6j_Gq-jsO1"
      },
      "execution_count": 45,
      "outputs": []
    },
    {
      "cell_type": "code",
      "source": [
        "\n",
        "\n",
        "def padding(arr,arr_len):\n",
        "  return arr+[0]*(arr_len-len(arr))"
      ],
      "metadata": {
        "id": "xq-C-DPYjuuZ"
      },
      "execution_count": 46,
      "outputs": []
    },
    {
      "cell_type": "code",
      "source": [
        "x=[]\n",
        "y=[]\n",
        "for sentence in sentences:\n",
        "  arr = vocab_and_indexing(sentence,vocab)\n",
        "  #print(arr)\n",
        "  for i in range(1,len(arr)):\n",
        "    x.append(padding(arr[:i],16))\n",
        "    y.append(arr[i])\n",
        "\n",
        "\n"
      ],
      "metadata": {
        "id": "NuqiXlIQlFNJ"
      },
      "execution_count": 47,
      "outputs": []
    },
    {
      "cell_type": "code",
      "source": [
        "x= torch.tensor(x,dtype=torch.float32)\n",
        "y= torch.tensor(y,dtype=torch.long)"
      ],
      "metadata": {
        "id": "VtNFl7SvogmB"
      },
      "execution_count": 48,
      "outputs": []
    },
    {
      "cell_type": "code",
      "source": [
        "print(y.max())\n",
        "x.shape,y.shape\n"
      ],
      "metadata": {
        "colab": {
          "base_uri": "https://localhost:8080/"
        },
        "id": "y6Zd5OKgDY6t",
        "outputId": "5cea24bc-9996-4854-e867-0895bce41f3b"
      },
      "execution_count": 49,
      "outputs": [
        {
          "output_type": "stream",
          "name": "stdout",
          "text": [
            "tensor(220)\n"
          ]
        },
        {
          "output_type": "execute_result",
          "data": {
            "text/plain": [
              "(torch.Size([277, 16]), torch.Size([277]))"
            ]
          },
          "metadata": {},
          "execution_count": 49
        }
      ]
    },
    {
      "cell_type": "code",
      "source": [
        "\n",
        "class custom_dataset(Dataset):\n",
        "  def __init__(self,x,y):\n",
        "    self.x = x\n",
        "    self.y = y\n",
        "    #print(self.x.shape)\n",
        "  def __len__(self):\n",
        "    return self.x.shape[0]\n",
        "  def __getitem__(self,idx):\n",
        "    return self.x[idx],self.y[idx]"
      ],
      "metadata": {
        "id": "2KfML416lGik"
      },
      "execution_count": 50,
      "outputs": []
    },
    {
      "cell_type": "code",
      "source": [
        "data = custom_dataset(x,y)\n",
        "data= DataLoader(data,batch_size=3,shuffle=False)"
      ],
      "metadata": {
        "id": "2_lNvniEnxyo"
      },
      "execution_count": 51,
      "outputs": []
    },
    {
      "cell_type": "code",
      "source": [
        "for a,b in data:\n",
        "  break\n",
        "a=torch.tensor(a,dtype=torch.long)\n",
        "b=torch.tensor(b,dtype=torch.long)\n",
        "a= nn.Embedding(len(vocab),100)(a)\n",
        "a.shape"
      ],
      "metadata": {
        "colab": {
          "base_uri": "https://localhost:8080/"
        },
        "id": "r3f9Q9K8JrF6",
        "outputId": "8a25ac2e-1468-4344-a57c-5f5486b21dd8"
      },
      "execution_count": 52,
      "outputs": [
        {
          "output_type": "stream",
          "name": "stderr",
          "text": [
            "<ipython-input-52-6e79c6c03896>:3: UserWarning: To copy construct from a tensor, it is recommended to use sourceTensor.clone().detach() or sourceTensor.clone().detach().requires_grad_(True), rather than torch.tensor(sourceTensor).\n",
            "  a=torch.tensor(a,dtype=torch.long)\n",
            "<ipython-input-52-6e79c6c03896>:4: UserWarning: To copy construct from a tensor, it is recommended to use sourceTensor.clone().detach() or sourceTensor.clone().detach().requires_grad_(True), rather than torch.tensor(sourceTensor).\n",
            "  b=torch.tensor(b,dtype=torch.long)\n"
          ]
        },
        {
          "output_type": "execute_result",
          "data": {
            "text/plain": [
              "torch.Size([3, 16, 100])"
            ]
          },
          "metadata": {},
          "execution_count": 52
        }
      ]
    },
    {
      "cell_type": "code",
      "source": [
        "len_vocab= len(vocab)\n",
        "len_vocab"
      ],
      "metadata": {
        "id": "LR2qfnwEKSOv",
        "colab": {
          "base_uri": "https://localhost:8080/"
        },
        "outputId": "d5abcfaf-3b57-4731-bede-0dbbc559f32d"
      },
      "execution_count": 53,
      "outputs": [
        {
          "output_type": "execute_result",
          "data": {
            "text/plain": [
              "221"
            ]
          },
          "metadata": {},
          "execution_count": 53
        }
      ]
    },
    {
      "cell_type": "code",
      "source": [
        "class my_model(nn.Module):\n",
        "  def __init__(self,len_vocab):\n",
        "    super(my_model,self).__init__()\n",
        "    self.embedding = nn.Embedding(len_vocab,100,padding_idx=0)\n",
        "    self.lstm = nn.LSTM(100,128,batch_first=True)\n",
        "    self.linear = nn.Linear(128,len_vocab)\n",
        "  def forward(self,x):\n",
        "    x = self.embedding(x)\n",
        "    intermeddiate_hidden_states ,(final_hidden_state,final_layer_output) = self.lstm(x)\n",
        "    x = self.linear(final_hidden_state.squeeze(0))\n",
        "    return x"
      ],
      "metadata": {
        "id": "eG3TKLV-n2Jl"
      },
      "execution_count": 83,
      "outputs": []
    },
    {
      "cell_type": "code",
      "source": [
        "\n",
        "model = my_model(len_vocab)"
      ],
      "metadata": {
        "id": "nlM30MWXLsrC"
      },
      "execution_count": 84,
      "outputs": []
    },
    {
      "cell_type": "code",
      "source": [
        "optim = torch.optim.ADAM(model.parameters(),lr=0.10)\n",
        "loss_fn = nn.CrossEntropyLoss()"
      ],
      "metadata": {
        "id": "g6L-WAmdn8pO"
      },
      "execution_count": 85,
      "outputs": []
    },
    {
      "cell_type": "code",
      "source": [
        "print(f\"Min index in x: {x.min()}, Max index in x: {x.max()}\")\n"
      ],
      "metadata": {
        "colab": {
          "base_uri": "https://localhost:8080/"
        },
        "id": "aQPIaydlNjdU",
        "outputId": "6dcf89b1-4be0-4549-e94a-7e564cea86be"
      },
      "execution_count": 86,
      "outputs": [
        {
          "output_type": "stream",
          "name": "stdout",
          "text": [
            "Min index in x: 0, Max index in x: 98\n"
          ]
        }
      ]
    },
    {
      "cell_type": "code",
      "source": [
        "len(vocab)"
      ],
      "metadata": {
        "colab": {
          "base_uri": "https://localhost:8080/"
        },
        "id": "ya25e7eDODe1",
        "outputId": "26d406a6-411e-4b29-ded2-144e0d62e4fd"
      },
      "execution_count": 87,
      "outputs": [
        {
          "output_type": "execute_result",
          "data": {
            "text/plain": [
              "221"
            ]
          },
          "metadata": {},
          "execution_count": 87
        }
      ]
    },
    {
      "cell_type": "code",
      "source": [
        "for i in range(100):\n",
        "    net_loss = 0\n",
        "    for x, y in data:\n",
        "        # Move data to the device first\n",
        "        x = x.long()\n",
        "        y = y.long()\n",
        "\n",
        "        # Now pass the data to the model\n",
        "        output = model(x)\n",
        "\n",
        "\n",
        "        loss = loss_fn(output, y)\n",
        "\n",
        "        optim.zero_grad()\n",
        "        loss.backward()\n",
        "        optim.step()\n",
        "        net_loss += loss.item()\n",
        "    print(f\"epoch : {i} loss : {net_loss/len(data)}\")\n"
      ],
      "metadata": {
        "colab": {
          "base_uri": "https://localhost:8080/"
        },
        "id": "XLRTpAmcLkF1",
        "outputId": "9366c012-85ef-4de7-f136-62627bc219fc"
      },
      "execution_count": 92,
      "outputs": [
        {
          "output_type": "stream",
          "name": "stdout",
          "text": [
            "epoch : 0 loss : 5.266613991029801\n",
            "epoch : 1 loss : 5.246615727742513\n",
            "epoch : 2 loss : 5.22968041512274\n",
            "epoch : 3 loss : 5.214925822391305\n",
            "epoch : 4 loss : 5.202412297648769\n",
            "epoch : 5 loss : 5.192342655633086\n",
            "epoch : 6 loss : 5.184626876666981\n",
            "epoch : 7 loss : 5.178765271299628\n",
            "epoch : 8 loss : 5.174146252293741\n",
            "epoch : 9 loss : 5.170327796730944\n",
            "epoch : 10 loss : 5.167058478119553\n",
            "epoch : 11 loss : 5.164196701459987\n",
            "epoch : 12 loss : 5.161654549260294\n",
            "epoch : 13 loss : 5.159371565747005\n",
            "epoch : 14 loss : 5.157303507610034\n",
            "epoch : 15 loss : 5.155416657847743\n",
            "epoch : 16 loss : 5.153684277688304\n",
            "epoch : 17 loss : 5.152084709495626\n",
            "epoch : 18 loss : 5.150600248767484\n",
            "epoch : 19 loss : 5.149216328897784\n",
            "epoch : 20 loss : 5.147920480338476\n",
            "epoch : 21 loss : 5.146702433145174\n",
            "epoch : 22 loss : 5.145553117157311\n",
            "epoch : 23 loss : 5.144464795307447\n",
            "epoch : 24 loss : 5.143430776493524\n",
            "epoch : 25 loss : 5.1424449951417985\n",
            "epoch : 26 loss : 5.14150191891578\n",
            "epoch : 27 loss : 5.140596753807478\n",
            "epoch : 28 loss : 5.139724536608624\n",
            "epoch : 29 loss : 5.138880734802575\n",
            "epoch : 30 loss : 5.138060585145028\n",
            "epoch : 31 loss : 5.137259267991589\n",
            "epoch : 32 loss : 5.136471066423642\n",
            "epoch : 33 loss : 5.135689407266597\n",
            "epoch : 34 loss : 5.134905933051981\n",
            "epoch : 35 loss : 5.134109425288375\n",
            "epoch : 36 loss : 5.1332837074033675\n",
            "epoch : 37 loss : 5.132403471136606\n",
            "epoch : 38 loss : 5.131426477944979\n",
            "epoch : 39 loss : 5.130273265223349\n",
            "epoch : 40 loss : 5.1287739302522395\n",
            "epoch : 41 loss : 5.126483686508671\n",
            "epoch : 42 loss : 5.121853300320205\n",
            "epoch : 43 loss : 5.108938504290837\n",
            "epoch : 44 loss : 5.084185174716416\n",
            "epoch : 45 loss : 5.043384639165735\n",
            "epoch : 46 loss : 5.063830262871199\n",
            "epoch : 47 loss : 5.081014110196021\n",
            "epoch : 48 loss : 5.011766808007353\n",
            "epoch : 49 loss : 4.939061869857132\n",
            "epoch : 50 loss : 4.906108410127701\n",
            "epoch : 51 loss : 4.864605119151454\n",
            "epoch : 52 loss : 4.865648197871383\n",
            "epoch : 53 loss : 4.879126097566338\n",
            "epoch : 54 loss : 4.8162156305005475\n",
            "epoch : 55 loss : 4.915561824716548\n",
            "epoch : 56 loss : 4.963334686012678\n",
            "epoch : 57 loss : 4.858180681864421\n",
            "epoch : 58 loss : 4.831483920415242\n",
            "epoch : 59 loss : 4.800626347141881\n",
            "epoch : 60 loss : 4.790170836192305\n",
            "epoch : 61 loss : 4.775843317790698\n",
            "epoch : 62 loss : 4.767040560322423\n",
            "epoch : 63 loss : 4.761405132150137\n",
            "epoch : 64 loss : 4.778145508099628\n",
            "epoch : 65 loss : 4.765356253552181\n",
            "epoch : 66 loss : 4.753790532388995\n",
            "epoch : 67 loss : 4.737697932028001\n",
            "epoch : 68 loss : 4.738521793837188\n",
            "epoch : 69 loss : 4.7329201441939155\n",
            "epoch : 70 loss : 4.744392961584111\n",
            "epoch : 71 loss : 4.768247104460193\n",
            "epoch : 72 loss : 4.766150361748152\n",
            "epoch : 73 loss : 4.752269432108889\n",
            "epoch : 74 loss : 4.799507325695407\n",
            "epoch : 75 loss : 5.0600771339990755\n",
            "epoch : 76 loss : 4.802495746202366\n",
            "epoch : 77 loss : 4.752325057983398\n",
            "epoch : 78 loss : 4.780020959915653\n",
            "epoch : 79 loss : 4.977024816697644\n",
            "epoch : 80 loss : 4.8144569422609065\n",
            "epoch : 81 loss : 4.775805627146075\n",
            "epoch : 82 loss : 4.746943840416529\n",
            "epoch : 83 loss : 4.740999526874994\n",
            "epoch : 84 loss : 4.741539303974439\n",
            "epoch : 85 loss : 4.78216048466262\n",
            "epoch : 86 loss : 4.843656001552459\n",
            "epoch : 87 loss : 4.913537922725882\n",
            "epoch : 88 loss : 4.783640776911089\n",
            "epoch : 89 loss : 5.311686905481482\n",
            "epoch : 90 loss : 5.1853401327645905\n",
            "epoch : 91 loss : 5.163667104577505\n",
            "epoch : 92 loss : 5.151754953527964\n",
            "epoch : 93 loss : 5.139695121395972\n",
            "epoch : 94 loss : 5.0267844456498345\n",
            "epoch : 95 loss : 4.844317690018685\n",
            "epoch : 96 loss : 4.767567506400487\n",
            "epoch : 97 loss : 4.717935818497852\n",
            "epoch : 98 loss : 4.718387747323641\n",
            "epoch : 99 loss : 4.6702853838602705\n"
          ]
        }
      ]
    },
    {
      "cell_type": "code",
      "source": [
        "input = \"took a \"\n"
      ],
      "metadata": {
        "id": "KA7zlXAcMKPb"
      },
      "execution_count": 99,
      "outputs": []
    },
    {
      "cell_type": "code",
      "source": [
        "\n",
        "def predict(input):\n",
        "  text = vocab_and_indexing(input,vocab)\n",
        "  text = torch.tensor(padding(text,16),dtype=torch.long)\n",
        "  text = text.unsqueeze(0)\n",
        "  #print(text)\n",
        "  output = model(text)\n",
        "  output = torch.argmax(output,dim=1)\n",
        "  word=[i for i in vocab.keys()][output]\n",
        "  return word"
      ],
      "metadata": {
        "id": "IguxxDjhOOZ1"
      },
      "execution_count": 100,
      "outputs": []
    },
    {
      "cell_type": "code",
      "source": [
        "for i in range(5):\n",
        "  output = predict(input)\n",
        "  input = input + \" \" + output\n",
        "  print(input)\n",
        ""
      ],
      "metadata": {
        "colab": {
          "base_uri": "https://localhost:8080/"
        },
        "id": "ow26sfYZbKLB",
        "outputId": "d31e985e-08af-4512-affa-2449e89de0e7"
      },
      "execution_count": 101,
      "outputs": [
        {
          "output_type": "stream",
          "name": "stdout",
          "text": [
            "took a  a\n",
            "took a  a a\n",
            "took a  a a a\n",
            "took a  a a a a\n",
            "took a  a a a a a\n"
          ]
        }
      ]
    },
    {
      "cell_type": "code",
      "source": [],
      "metadata": {
        "id": "TiocHOokd3Mk"
      },
      "execution_count": null,
      "outputs": []
    }
  ]
}